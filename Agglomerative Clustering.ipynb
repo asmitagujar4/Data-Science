{
 "cells": [
  {
   "cell_type": "code",
   "execution_count": 6,
   "id": "14336c94-93dd-4772-877e-d56203b58e05",
   "metadata": {},
   "outputs": [],
   "source": [
    "import pandas as pd\n",
    "import numpy as np\n",
    "from sklearn.cluster import AgglomerativeClustering\n",
    "from sklearn.metrics import silhouette_score\n",
    "from matplotlib import pyplot as plt\n",
    "import warnings \n",
    "warnings.filterwarnings(\"ignore\")"
   ]
  },
  {
   "cell_type": "code",
   "execution_count": 2,
   "id": "047978fb-dad3-4aeb-a724-b83323b404f4",
   "metadata": {},
   "outputs": [],
   "source": [
    "from sklearn.datasets import make_blobs"
   ]
  },
  {
   "cell_type": "code",
   "execution_count": 21,
   "id": "0d3d4a28-e90c-4cb1-a399-63a965173ca0",
   "metadata": {},
   "outputs": [],
   "source": [
    "data = make_blobs(n_samples=40, n_features=2, centers=[[1, 1], [3, 3]])"
   ]
  },
  {
   "cell_type": "code",
   "execution_count": 22,
   "id": "3d87a628-8c77-45ca-90af-74e4e2143fec",
   "metadata": {
    "scrolled": true
   },
   "outputs": [
    {
     "data": {
      "text/plain": [
       "(array([[ 0.52713633,  1.3341307 ],\n",
       "        [ 3.7621343 ,  1.79155053],\n",
       "        [ 1.6655025 ,  0.5549278 ],\n",
       "        [ 1.87057079,  3.9340878 ],\n",
       "        [ 3.31418488,  3.20083736],\n",
       "        [ 2.94739274,  2.50201783],\n",
       "        [ 3.76818467,  3.76137055],\n",
       "        [ 0.29736495, -1.29133262],\n",
       "        [ 0.91249018,  0.42611176],\n",
       "        [ 1.72782037, -0.19002161],\n",
       "        [ 1.66409981,  1.71408872],\n",
       "        [ 3.35134798,  6.05946191],\n",
       "        [ 2.45355262,  1.76761295],\n",
       "        [ 0.80870628,  2.35591908],\n",
       "        [ 3.74104533,  2.7935126 ],\n",
       "        [ 0.86433311,  1.45764523],\n",
       "        [ 0.14551672,  1.37723612],\n",
       "        [ 0.09835748,  2.00217764],\n",
       "        [ 1.00036848,  1.33610279],\n",
       "        [ 3.59300047,  3.50769503],\n",
       "        [-0.01169091,  1.82468442],\n",
       "        [ 1.94137915,  3.7854021 ],\n",
       "        [ 0.76887734,  0.14487315],\n",
       "        [ 1.57617882,  1.88362826],\n",
       "        [-0.09768276,  1.34758369],\n",
       "        [ 1.30462184,  1.64453902],\n",
       "        [ 2.98767804,  4.97610545],\n",
       "        [ 3.36649563,  3.48402982],\n",
       "        [ 3.26693806,  4.49089324],\n",
       "        [ 0.31320624,  0.22405873],\n",
       "        [-0.75873144,  0.9726101 ],\n",
       "        [ 2.49292885,  4.05174764],\n",
       "        [ 1.78014968,  3.61958462],\n",
       "        [ 3.59660309,  2.82803572],\n",
       "        [ 2.39807329,  3.73253573],\n",
       "        [ 0.35677313,  0.89640884],\n",
       "        [ 5.38964371,  4.76232619],\n",
       "        [ 1.62902298,  3.06020878],\n",
       "        [ 2.75071918,  2.96639584],\n",
       "        [ 0.30921202,  1.08945075]]),\n",
       " array([0, 1, 0, 1, 1, 1, 1, 0, 0, 0, 0, 1, 1, 0, 1, 0, 0, 0, 0, 1, 0, 1,\n",
       "        0, 0, 0, 0, 1, 1, 1, 0, 0, 1, 1, 1, 1, 0, 1, 1, 1, 0]))"
      ]
     },
     "execution_count": 22,
     "metadata": {},
     "output_type": "execute_result"
    }
   ],
   "source": [
    "data"
   ]
  },
  {
   "cell_type": "code",
   "execution_count": 23,
   "id": "7213f361-ac56-4ff7-81ab-3da570138b30",
   "metadata": {},
   "outputs": [],
   "source": [
    "X = data[0]\n",
    "y = data[1]"
   ]
  },
  {
   "cell_type": "code",
   "execution_count": 27,
   "id": "82c0317d-a0f9-415a-95ff-209eccd40564",
   "metadata": {},
   "outputs": [
    {
     "data": {
      "image/png": "[encoded data removed]",
      "text/plain": [
       "<Figure size 640x480 with 1 Axes>"
      ]
     },
     "metadata": {},
     "output_type": "display_data"
    }
   ],
   "source": [
    "plt.scatter(X[y==0,0], X[y==0,1], label=\"Cluster 1\")\n",
    "plt.scatter(X[y==1,0], X[y==1,1], label=\"Cluster 2\")\n",
    "plt.legend()\n",
    "plt.show()"
   ]
  },
  {
   "cell_type": "code",
   "execution_count": 41,
   "id": "8daaa714-b34c-4966-911e-a4dde07d0b1c",
   "metadata": {},
   "outputs": [],
   "source": [
    "def find_optimal_cluserts(data, n_clusters=10):\n",
    "    all_scores = []\n",
    "    for i in range(2, n_clusters+1):\n",
    "        model = AgglomerativeClustering(n_clusters=i)\n",
    "        pred = model.fit_predict(data)\n",
    "        score = silhouette_score(data, pred)\n",
    "        all_scores.append(score)\n",
    "        best_clusters = np.argmax(all_scores)+2\n",
    "        return best_clusters"
   ]
  },
  {
   "cell_type": "code",
   "execution_count": 42,
   "id": "78785a66-16ec-4648-9328-f8afa12717f0",
   "metadata": {},
   "outputs": [],
   "source": [
    "best_n_clusters = find_optimal_cluserts(X)"
   ]
  },
  {
   "cell_type": "code",
   "execution_count": 43,
   "id": "34c83a68-ac5a-4ff1-9a21-ab646686e81b",
   "metadata": {},
   "outputs": [],
   "source": [
    "agg_model = AgglomerativeClustering(n_clusters=best_n_clusters)"
   ]
  },
  {
   "cell_type": "code",
   "execution_count": 44,
   "id": "f3f23888-c4b5-4a8e-894c-012528c8c6f3",
   "metadata": {},
   "outputs": [],
   "source": [
    "labels = agg_model.fit_predict(X)"
   ]
  },
  {
   "cell_type": "code",
   "execution_count": 45,
   "id": "ef96effa-34a7-447d-89f4-f7ce82dcc7a0",
   "metadata": {
    "scrolled": true
   },
   "outputs": [
    {
     "data": {
      "text/plain": [
       "array([1, 0, 1, 0, 0, 0, 0, 1, 1, 1, 1, 0, 0, 1, 0, 1, 1, 1, 1, 0, 1, 0,\n",
       "       1, 1, 1, 1, 0, 0, 0, 1, 1, 0, 0, 0, 0, 1, 0, 0, 0, 1], dtype=int64)"
      ]
     },
     "execution_count": 45,
     "metadata": {},
     "output_type": "execute_result"
    }
   ],
   "source": [
    "labels"
   ]
  },
  {
   "cell_type": "code",
   "execution_count": 56,
   "id": "396484b3-b4ed-4ca5-bd6b-36089ea3cbf3",
   "metadata": {},
   "outputs": [],
   "source": [
    "labels = np.array(list(map(lambda x: np.abs(x-1), labels)))"
   ]
  },
  {
   "cell_type": "code",
   "execution_count": 57,
   "id": "738c21d0-510e-4a53-9382-402ed355e7f1",
   "metadata": {
    "scrolled": true
   },
   "outputs": [
    {
     "data": {
      "text/plain": [
       "array([0, 1, 0, 1, 1, 1, 1, 0, 0, 0, 0, 1, 1, 0, 1, 0, 0, 0, 0, 1, 0, 1,\n",
       "       0, 0, 0, 0, 1, 1, 1, 0, 0, 1, 1, 1, 1, 0, 1, 1, 1, 0], dtype=int64)"
      ]
     },
     "execution_count": 57,
     "metadata": {},
     "output_type": "execute_result"
    }
   ],
   "source": [
    "labels"
   ]
  },
  {
   "cell_type": "code",
   "execution_count": 50,
   "id": "524206e9-5f4e-4d39-b26f-4c8954ecca21",
   "metadata": {},
   "outputs": [],
   "source": [
    "from sklearn.metrics import accuracy_score"
   ]
  },
  {
   "cell_type": "code",
   "execution_count": 51,
   "id": "96353f9b-91c1-4a9a-93de-3b44adc658e5",
   "metadata": {},
   "outputs": [
    {
     "data": {
      "text/plain": [
       "1.0"
      ]
     },
     "execution_count": 51,
     "metadata": {},
     "output_type": "execute_result"
    }
   ],
   "source": [
    "accuracy_score(y, labels)"
   ]
  },
  {
   "cell_type": "code",
   "execution_count": 52,
   "id": "407c11a6-4d98-4165-9356-19e5511aad4d",
   "metadata": {
    "scrolled": true
   },
   "outputs": [
    {
     "data": {
      "text/plain": [
       "array([0, 1, 0, 1, 1, 1, 1, 0, 0, 0, 0, 1, 1, 0, 1, 0, 0, 0, 0, 1, 0, 1,\n",
       "       0, 0, 0, 0, 1, 1, 1, 0, 0, 1, 1, 1, 1, 0, 1, 1, 1, 0])"
      ]
     },
     "execution_count": 52,
     "metadata": {},
     "output_type": "execute_result"
    }
   ],
   "source": [
    "y"
   ]
  },
  {
   "cell_type": "code",
   "execution_count": null,
   "id": "6ba02bc6-58e9-4575-b613-f83794f56c02",
   "metadata": {},
   "outputs": [],
   "source": []
  },
  {
   "cell_type": "code",
   "execution_count": 61,
   "id": "bcfafc20-56e5-46e2-ab6f-2ce57797f74c",
   "metadata": {},
   "outputs": [
    {
     "data": {
      "text/plain": [
       "(array([4, 7, 8, 7, 2, 8, 6, 8, 5, 1]), array([2, 2, 7, 4, 3, 8, 7, 6, 6, 2]))"
      ]
     },
     "execution_count": 61,
     "metadata": {},
     "output_type": "execute_result"
    }
   ],
   "source": [
    "d1 = np.random.randint(1, 9, 10)\n",
    "d2 = np.random.randint(1, 9, 10)\n",
    "d1, d2"
   ]
  },
  {
   "cell_type": "code",
   "execution_count": 62,
   "id": "070a9637-0dea-4775-b0b1-8ad757c19121",
   "metadata": {},
   "outputs": [
    {
     "data": {
      "text/html": [
       "<div>\n",
       "<style scoped>\n",
       "    .dataframe tbody tr th:only-of-type {\n",
       "        vertical-align: middle;\n",
       "    }\n",
       "\n",
       "    .dataframe tbody tr th {\n",
       "        vertical-align: top;\n",
       "    }\n",
       "\n",
       "    .dataframe thead th {\n",
       "        text-align: right;\n",
       "    }\n",
       "</style>\n",
       "<table border=\"1\" class=\"dataframe\">\n",
       "  <thead>\n",
       "    <tr style=\"text-align: right;\">\n",
       "      <th></th>\n",
       "      <th>A</th>\n",
       "      <th>B</th>\n",
       "    </tr>\n",
       "  </thead>\n",
       "  <tbody>\n",
       "    <tr>\n",
       "      <th>0</th>\n",
       "      <td>4</td>\n",
       "      <td>2</td>\n",
       "    </tr>\n",
       "    <tr>\n",
       "      <th>1</th>\n",
       "      <td>7</td>\n",
       "      <td>2</td>\n",
       "    </tr>\n",
       "    <tr>\n",
       "      <th>2</th>\n",
       "      <td>8</td>\n",
       "      <td>7</td>\n",
       "    </tr>\n",
       "    <tr>\n",
       "      <th>3</th>\n",
       "      <td>7</td>\n",
       "      <td>4</td>\n",
       "    </tr>\n",
       "    <tr>\n",
       "      <th>4</th>\n",
       "      <td>2</td>\n",
       "      <td>3</td>\n",
       "    </tr>\n",
       "  </tbody>\n",
       "</table>\n",
       "</div>"
      ],
      "text/plain": [
       "   A  B\n",
       "0  4  2\n",
       "1  7  2\n",
       "2  8  7\n",
       "3  7  4\n",
       "4  2  3"
      ]
     },
     "execution_count": 62,
     "metadata": {},
     "output_type": "execute_result"
    }
   ],
   "source": [
    "df = pd.DataFrame({\"A\":d1, \"B\":d2})\n",
    "df.head()"
   ]
  },
  {
   "cell_type": "code",
   "execution_count": 64,
   "id": "4b6b8b60-47ff-456e-bace-e06b9d9d0efd",
   "metadata": {},
   "outputs": [
    {
     "data": {
      "image/png": "[encoded data removed]",
      "text/plain": [
       "<Figure size 640x480 with 1 Axes>"
      ]
     },
     "metadata": {},
     "output_type": "display_data"
    }
   ],
   "source": [
    "plt.scatter(df[\"A\"], df[\"B\"])\n",
    "plt.show()"
   ]
  },
  {
   "cell_type": "code",
   "execution_count": 67,
   "id": "f932cce9-8f33-45fb-91ac-1df64a76362d",
   "metadata": {},
   "outputs": [],
   "source": [
    "distance_matrix = np.array([[np.sqrt(np.sum(np.square(df.iloc[i] - df.iloc[j]))) for i in range(len(df))] for j in range(len(df))])"
   ]
  },
  {
   "cell_type": "code",
   "execution_count": 70,
   "id": "25c34fc4-3746-4645-b2d1-18d0427db6b8",
   "metadata": {},
   "outputs": [],
   "source": [
    "distance_matrix = np.round(distance_matrix, decimals=2)"
   ]
  },
  {
   "cell_type": "code",
   "execution_count": 71,
   "id": "9c844fe7-3a76-471d-8c54-e454ee5e1568",
   "metadata": {},
   "outputs": [
    {
     "data": {
      "text/plain": [
       "array([[0.  , 3.  , 6.4 , 3.61, 2.24, 7.21, 5.39, 5.66, 4.12, 3.  ],\n",
       "       [3.  , 0.  , 5.1 , 2.  , 5.1 , 6.08, 5.1 , 4.12, 4.47, 6.  ],\n",
       "       [6.4 , 5.1 , 0.  , 3.16, 7.21, 1.  , 2.  , 1.  , 3.16, 8.6 ],\n",
       "       [3.61, 2.  , 3.16, 0.  , 5.1 , 4.12, 3.16, 2.24, 2.83, 6.32],\n",
       "       [2.24, 5.1 , 7.21, 5.1 , 0.  , 7.81, 5.66, 6.71, 4.24, 1.41],\n",
       "       [7.21, 6.08, 1.  , 4.12, 7.81, 0.  , 2.24, 2.  , 3.61, 9.22],\n",
       "       [5.39, 5.1 , 2.  , 3.16, 5.66, 2.24, 0.  , 2.24, 1.41, 7.07],\n",
       "       [5.66, 4.12, 1.  , 2.24, 6.71, 2.  , 2.24, 0.  , 3.  , 8.06],\n",
       "       [4.12, 4.47, 3.16, 2.83, 4.24, 3.61, 1.41, 3.  , 0.  , 5.66],\n",
       "       [3.  , 6.  , 8.6 , 6.32, 1.41, 9.22, 7.07, 8.06, 5.66, 0.  ]])"
      ]
     },
     "execution_count": 71,
     "metadata": {},
     "output_type": "execute_result"
    }
   ],
   "source": [
    "distance_matrix"
   ]
  },
  {
   "cell_type": "code",
   "execution_count": null,
   "id": "3e2302fd-f7d8-48b9-9bc2-da06e5e33742",
   "metadata": {},
   "outputs": [],
   "source": []
  }
 ],
 "metadata": {
  "kernelspec": {
   "display_name": "Python 3 (ipykernel)",
   "language": "python",
   "name": "python3"
  },
  "language_info": {
   "codemirror_mode": {
    "name": "ipython",
    "version": 3
   },
   "file_extension": ".py",
   "mimetype": "text/x-python",
   "name": "python",
   "nbconvert_exporter": "python",
   "pygments_lexer": "ipython3",
   "version": "3.11.7"
  }
 },
 "nbformat": 4,
 "nbformat_minor": 5
}
