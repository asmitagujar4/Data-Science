{
 "cells": [
  {
   "cell_type": "markdown",
   "id": "6e3249da-d29c-4576-b348-1e7aea366e28",
   "metadata": {},
   "source": [
    "# HOTEL RESERVATION PROJECT"
   ]
  },
  {
   "cell_type": "markdown",
   "id": "f20e71a7-dc4c-481b-930a-4881a5582013",
   "metadata": {},
   "source": [
    "#### Import the main libraries"
   ]
  },
  {
   "cell_type": "code",
   "execution_count": 1,
   "id": "690f1414-61fe-428d-8322-9f7938c878b1",
   "metadata": {},
   "outputs": [],
   "source": [
    "import numpy as np\n",
    "import pandas as pd\n",
    "import seaborn as sns\n",
    "import matplotlib.pyplot as plt\n",
    "from sklearn.preprocessing import StandardScaler\n",
    "from sklearn.model_selection import train_test_split\n",
    "from sklearn.linear_model import LinearRegression\n",
    "from sklearn.tree import DecisionTreeClassifier\n",
    "from sklearn.ensemble import AdaBoostClassifier\n",
    "from sklearn.ensemble import RandomForestClassifier\n",
    "from sklearn.svm import SVC\n",
    "from sklearn.metrics import accuracy_score, confusion_matrix, classification_report, f1_score, precision_score ,recall_score\n",
    "from sklearn.metrics import r2_score, mean_squared_error\n",
    "from sklearn.feature_selection import SequentialFeatureSelector\n",
    "import warnings\n",
    "warnings.filterwarnings(\"ignore\")"
   ]
  },
  {
   "cell_type": "markdown",
   "id": "adafbfef-2ac3-4bc9-86ee-9f37b5ab2b66",
   "metadata": {},
   "source": [
    "#### load the dataset"
   ]
  },
  {
   "cell_type": "code",
   "execution_count": 2,
   "id": "eea08e37-5c01-48c6-9ffd-c35fe1033042",
   "metadata": {},
   "outputs": [],
   "source": [
    "df = pd.read_csv(\"Hotel Reservations.csv\")"
   ]
  },
  {
   "cell_type": "markdown",
   "id": "ec8b611c-d889-46a6-af0a-5744641d012e",
   "metadata": {},
   "source": [
    "#### quick overview of its structure and content"
   ]
  },
  {
   "cell_type": "code",
   "execution_count": 3,
   "id": "b2e4eb04-785e-4b4d-b653-846c567e349c",
   "metadata": {},
   "outputs": [
    {
     "data": {
      "text/html": [
       "<div>\n",
       "<style scoped>\n",
       "    .dataframe tbody tr th:only-of-type {\n",
       "        vertical-align: middle;\n",
       "    }\n",
       "\n",
       "    .dataframe tbody tr th {\n",
       "        vertical-align: top;\n",
       "    }\n",
       "\n",
       "    .dataframe thead th {\n",
       "        text-align: right;\n",
       "    }\n",
       "</style>\n",
       "<table border=\"1\" class=\"dataframe\">\n",
       "  <thead>\n",
       "    <tr style=\"text-align: right;\">\n",
       "      <th></th>\n",
       "      <th>Booking_ID</th>\n",
       "      <th>no_of_adults</th>\n",
       "      <th>no_of_children</th>\n",
       "      <th>no_of_weekend_nights</th>\n",
       "      <th>no_of_week_nights</th>\n",
       "      <th>type_of_meal_plan</th>\n",
       "      <th>required_car_parking_space</th>\n",
       "      <th>room_type_reserved</th>\n",
       "      <th>lead_time</th>\n",
       "      <th>arrival_year</th>\n",
       "      <th>arrival_month</th>\n",
       "      <th>arrival_date</th>\n",
       "      <th>market_segment_type</th>\n",
       "      <th>repeated_guest</th>\n",
       "      <th>no_of_previous_cancellations</th>\n",
       "      <th>no_of_previous_bookings_not_canceled</th>\n",
       "      <th>avg_price_per_room</th>\n",
       "      <th>no_of_special_requests</th>\n",
       "      <th>booking_status</th>\n",
       "    </tr>\n",
       "  </thead>\n",
       "  <tbody>\n",
       "    <tr>\n",
       "      <th>0</th>\n",
       "      <td>INN00001</td>\n",
       "      <td>2</td>\n",
       "      <td>0</td>\n",
       "      <td>1</td>\n",
       "      <td>2</td>\n",
       "      <td>Meal Plan 1</td>\n",
       "      <td>0</td>\n",
       "      <td>Room_Type 1</td>\n",
       "      <td>224</td>\n",
       "      <td>2017</td>\n",
       "      <td>10</td>\n",
       "      <td>2</td>\n",
       "      <td>Offline</td>\n",
       "      <td>0</td>\n",
       "      <td>0</td>\n",
       "      <td>0</td>\n",
       "      <td>65.00</td>\n",
       "      <td>0</td>\n",
       "      <td>Not_Canceled</td>\n",
       "    </tr>\n",
       "    <tr>\n",
       "      <th>1</th>\n",
       "      <td>INN00002</td>\n",
       "      <td>2</td>\n",
       "      <td>0</td>\n",
       "      <td>2</td>\n",
       "      <td>3</td>\n",
       "      <td>Not Selected</td>\n",
       "      <td>0</td>\n",
       "      <td>Room_Type 1</td>\n",
       "      <td>5</td>\n",
       "      <td>2018</td>\n",
       "      <td>11</td>\n",
       "      <td>6</td>\n",
       "      <td>Online</td>\n",
       "      <td>0</td>\n",
       "      <td>0</td>\n",
       "      <td>0</td>\n",
       "      <td>106.68</td>\n",
       "      <td>1</td>\n",
       "      <td>Not_Canceled</td>\n",
       "    </tr>\n",
       "    <tr>\n",
       "      <th>2</th>\n",
       "      <td>INN00003</td>\n",
       "      <td>1</td>\n",
       "      <td>0</td>\n",
       "      <td>2</td>\n",
       "      <td>1</td>\n",
       "      <td>Meal Plan 1</td>\n",
       "      <td>0</td>\n",
       "      <td>Room_Type 1</td>\n",
       "      <td>1</td>\n",
       "      <td>2018</td>\n",
       "      <td>2</td>\n",
       "      <td>28</td>\n",
       "      <td>Online</td>\n",
       "      <td>0</td>\n",
       "      <td>0</td>\n",
       "      <td>0</td>\n",
       "      <td>60.00</td>\n",
       "      <td>0</td>\n",
       "      <td>Canceled</td>\n",
       "    </tr>\n",
       "    <tr>\n",
       "      <th>3</th>\n",
       "      <td>INN00004</td>\n",
       "      <td>2</td>\n",
       "      <td>0</td>\n",
       "      <td>0</td>\n",
       "      <td>2</td>\n",
       "      <td>Meal Plan 1</td>\n",
       "      <td>0</td>\n",
       "      <td>Room_Type 1</td>\n",
       "      <td>211</td>\n",
       "      <td>2018</td>\n",
       "      <td>5</td>\n",
       "      <td>20</td>\n",
       "      <td>Online</td>\n",
       "      <td>0</td>\n",
       "      <td>0</td>\n",
       "      <td>0</td>\n",
       "      <td>100.00</td>\n",
       "      <td>0</td>\n",
       "      <td>Canceled</td>\n",
       "    </tr>\n",
       "    <tr>\n",
       "      <th>4</th>\n",
       "      <td>INN00005</td>\n",
       "      <td>2</td>\n",
       "      <td>0</td>\n",
       "      <td>1</td>\n",
       "      <td>1</td>\n",
       "      <td>Not Selected</td>\n",
       "      <td>0</td>\n",
       "      <td>Room_Type 1</td>\n",
       "      <td>48</td>\n",
       "      <td>2018</td>\n",
       "      <td>4</td>\n",
       "      <td>11</td>\n",
       "      <td>Online</td>\n",
       "      <td>0</td>\n",
       "      <td>0</td>\n",
       "      <td>0</td>\n",
       "      <td>94.50</td>\n",
       "      <td>0</td>\n",
       "      <td>Canceled</td>\n",
       "    </tr>\n",
       "  </tbody>\n",
       "</table>\n",
       "</div>"
      ],
      "text/plain": [
       "  Booking_ID  no_of_adults  no_of_children  no_of_weekend_nights  \\\n",
       "0   INN00001             2               0                     1   \n",
       "1   INN00002             2               0                     2   \n",
       "2   INN00003             1               0                     2   \n",
       "3   INN00004             2               0                     0   \n",
       "4   INN00005             2               0                     1   \n",
       "\n",
       "   no_of_week_nights type_of_meal_plan  required_car_parking_space  \\\n",
       "0                  2       Meal Plan 1                           0   \n",
       "1                  3      Not Selected                           0   \n",
       "2                  1       Meal Plan 1                           0   \n",
       "3                  2       Meal Plan 1                           0   \n",
       "4                  1      Not Selected                           0   \n",
       "\n",
       "  room_type_reserved  lead_time  arrival_year  arrival_month  arrival_date  \\\n",
       "0        Room_Type 1        224          2017             10             2   \n",
       "1        Room_Type 1          5          2018             11             6   \n",
       "2        Room_Type 1          1          2018              2            28   \n",
       "3        Room_Type 1        211          2018              5            20   \n",
       "4        Room_Type 1         48          2018              4            11   \n",
       "\n",
       "  market_segment_type  repeated_guest  no_of_previous_cancellations  \\\n",
       "0             Offline               0                             0   \n",
       "1              Online               0                             0   \n",
       "2              Online               0                             0   \n",
       "3              Online               0                             0   \n",
       "4              Online               0                             0   \n",
       "\n",
       "   no_of_previous_bookings_not_canceled  avg_price_per_room  \\\n",
       "0                                     0               65.00   \n",
       "1                                     0              106.68   \n",
       "2                                     0               60.00   \n",
       "3                                     0              100.00   \n",
       "4                                     0               94.50   \n",
       "\n",
       "   no_of_special_requests booking_status  \n",
       "0                       0   Not_Canceled  \n",
       "1                       1   Not_Canceled  \n",
       "2                       0       Canceled  \n",
       "3                       0       Canceled  \n",
       "4                       0       Canceled  "
      ]
     },
     "execution_count": 3,
     "metadata": {},
     "output_type": "execute_result"
    }
   ],
   "source": [
    "df.head()"
   ]
  },
  {
   "cell_type": "code",
   "execution_count": 4,
   "id": "7e15d68f-5b2a-4810-8bc8-4bbfbb5b002b",
   "metadata": {},
   "outputs": [
    {
     "data": {
      "text/plain": [
       "(36275, 19)"
      ]
     },
     "execution_count": 4,
     "metadata": {},
     "output_type": "execute_result"
    }
   ],
   "source": [
    "df.shape"
   ]
  },
  {
   "cell_type": "markdown",
   "id": "f384bc5b-9876-44b8-84f9-616e81e0af4e",
   "metadata": {},
   "source": [
    "#### checking the concise summary information about a DataFrame"
   ]
  },
  {
   "cell_type": "code",
   "execution_count": 5,
   "id": "1131cdb5-bc6d-4123-9d64-dfee38d42092",
   "metadata": {},
   "outputs": [
    {
     "name": "stdout",
     "output_type": "stream",
     "text": [
      "<class 'pandas.core.frame.DataFrame'>\n",
      "RangeIndex: 36275 entries, 0 to 36274\n",
      "Data columns (total 19 columns):\n",
      " #   Column                                Non-Null Count  Dtype  \n",
      "---  ------                                --------------  -----  \n",
      " 0   Booking_ID                            36275 non-null  object \n",
      " 1   no_of_adults                          36275 non-null  int64  \n",
      " 2   no_of_children                        36275 non-null  int64  \n",
      " 3   no_of_weekend_nights                  36275 non-null  int64  \n",
      " 4   no_of_week_nights                     36275 non-null  int64  \n",
      " 5   type_of_meal_plan                     36275 non-null  object \n",
      " 6   required_car_parking_space            36275 non-null  int64  \n",
      " 7   room_type_reserved                    36275 non-null  object \n",
      " 8   lead_time                             36275 non-null  int64  \n",
      " 9   arrival_year                          36275 non-null  int64  \n",
      " 10  arrival_month                         36275 non-null  int64  \n",
      " 11  arrival_date                          36275 non-null  int64  \n",
      " 12  market_segment_type                   36275 non-null  object \n",
      " 13  repeated_guest                        36275 non-null  int64  \n",
      " 14  no_of_previous_cancellations          36275 non-null  int64  \n",
      " 15  no_of_previous_bookings_not_canceled  36275 non-null  int64  \n",
      " 16  avg_price_per_room                    36275 non-null  float64\n",
      " 17  no_of_special_requests                36275 non-null  int64  \n",
      " 18  booking_status                        36275 non-null  object \n",
      "dtypes: float64(1), int64(13), object(5)\n",
      "memory usage: 5.3+ MB\n"
     ]
    }
   ],
   "source": [
    "df.info()"
   ]
  },
  {
   "cell_type": "markdown",
   "id": "260fd274-66c3-4b2e-b51c-eab6d0cbc856",
   "metadata": {},
   "source": [
    "#### checking the summary statistics"
   ]
  },
  {
   "cell_type": "code",
   "execution_count": 6,
   "id": "2dbf4dac-3fda-4b1a-9b11-569997c23e25",
   "metadata": {},
   "outputs": [
    {
     "data": {
      "text/html": [
       "<div>\n",
       "<style scoped>\n",
       "    .dataframe tbody tr th:only-of-type {\n",
       "        vertical-align: middle;\n",
       "    }\n",
       "\n",
       "    .dataframe tbody tr th {\n",
       "        vertical-align: top;\n",
       "    }\n",
       "\n",
       "    .dataframe thead th {\n",
       "        text-align: right;\n",
       "    }\n",
       "</style>\n",
       "<table border=\"1\" class=\"dataframe\">\n",
       "  <thead>\n",
       "    <tr style=\"text-align: right;\">\n",
       "      <th></th>\n",
       "      <th>no_of_adults</th>\n",
       "      <th>no_of_children</th>\n",
       "      <th>no_of_weekend_nights</th>\n",
       "      <th>no_of_week_nights</th>\n",
       "      <th>required_car_parking_space</th>\n",
       "      <th>lead_time</th>\n",
       "      <th>arrival_year</th>\n",
       "      <th>arrival_month</th>\n",
       "      <th>arrival_date</th>\n",
       "      <th>repeated_guest</th>\n",
       "      <th>no_of_previous_cancellations</th>\n",
       "      <th>no_of_previous_bookings_not_canceled</th>\n",
       "      <th>avg_price_per_room</th>\n",
       "      <th>no_of_special_requests</th>\n",
       "    </tr>\n",
       "  </thead>\n",
       "  <tbody>\n",
       "    <tr>\n",
       "      <th>count</th>\n",
       "      <td>36275.000000</td>\n",
       "      <td>36275.000000</td>\n",
       "      <td>36275.000000</td>\n",
       "      <td>36275.000000</td>\n",
       "      <td>36275.000000</td>\n",
       "      <td>36275.000000</td>\n",
       "      <td>36275.000000</td>\n",
       "      <td>36275.000000</td>\n",
       "      <td>36275.000000</td>\n",
       "      <td>36275.000000</td>\n",
       "      <td>36275.000000</td>\n",
       "      <td>36275.000000</td>\n",
       "      <td>36275.000000</td>\n",
       "      <td>36275.000000</td>\n",
       "    </tr>\n",
       "    <tr>\n",
       "      <th>mean</th>\n",
       "      <td>1.844962</td>\n",
       "      <td>0.105279</td>\n",
       "      <td>0.810724</td>\n",
       "      <td>2.204300</td>\n",
       "      <td>0.030986</td>\n",
       "      <td>85.232557</td>\n",
       "      <td>2017.820427</td>\n",
       "      <td>7.423653</td>\n",
       "      <td>15.596995</td>\n",
       "      <td>0.025637</td>\n",
       "      <td>0.023349</td>\n",
       "      <td>0.153411</td>\n",
       "      <td>103.423539</td>\n",
       "      <td>0.619655</td>\n",
       "    </tr>\n",
       "    <tr>\n",
       "      <th>std</th>\n",
       "      <td>0.518715</td>\n",
       "      <td>0.402648</td>\n",
       "      <td>0.870644</td>\n",
       "      <td>1.410905</td>\n",
       "      <td>0.173281</td>\n",
       "      <td>85.930817</td>\n",
       "      <td>0.383836</td>\n",
       "      <td>3.069894</td>\n",
       "      <td>8.740447</td>\n",
       "      <td>0.158053</td>\n",
       "      <td>0.368331</td>\n",
       "      <td>1.754171</td>\n",
       "      <td>35.089424</td>\n",
       "      <td>0.786236</td>\n",
       "    </tr>\n",
       "    <tr>\n",
       "      <th>min</th>\n",
       "      <td>0.000000</td>\n",
       "      <td>0.000000</td>\n",
       "      <td>0.000000</td>\n",
       "      <td>0.000000</td>\n",
       "      <td>0.000000</td>\n",
       "      <td>0.000000</td>\n",
       "      <td>2017.000000</td>\n",
       "      <td>1.000000</td>\n",
       "      <td>1.000000</td>\n",
       "      <td>0.000000</td>\n",
       "      <td>0.000000</td>\n",
       "      <td>0.000000</td>\n",
       "      <td>0.000000</td>\n",
       "      <td>0.000000</td>\n",
       "    </tr>\n",
       "    <tr>\n",
       "      <th>25%</th>\n",
       "      <td>2.000000</td>\n",
       "      <td>0.000000</td>\n",
       "      <td>0.000000</td>\n",
       "      <td>1.000000</td>\n",
       "      <td>0.000000</td>\n",
       "      <td>17.000000</td>\n",
       "      <td>2018.000000</td>\n",
       "      <td>5.000000</td>\n",
       "      <td>8.000000</td>\n",
       "      <td>0.000000</td>\n",
       "      <td>0.000000</td>\n",
       "      <td>0.000000</td>\n",
       "      <td>80.300000</td>\n",
       "      <td>0.000000</td>\n",
       "    </tr>\n",
       "    <tr>\n",
       "      <th>50%</th>\n",
       "      <td>2.000000</td>\n",
       "      <td>0.000000</td>\n",
       "      <td>1.000000</td>\n",
       "      <td>2.000000</td>\n",
       "      <td>0.000000</td>\n",
       "      <td>57.000000</td>\n",
       "      <td>2018.000000</td>\n",
       "      <td>8.000000</td>\n",
       "      <td>16.000000</td>\n",
       "      <td>0.000000</td>\n",
       "      <td>0.000000</td>\n",
       "      <td>0.000000</td>\n",
       "      <td>99.450000</td>\n",
       "      <td>0.000000</td>\n",
       "    </tr>\n",
       "    <tr>\n",
       "      <th>75%</th>\n",
       "      <td>2.000000</td>\n",
       "      <td>0.000000</td>\n",
       "      <td>2.000000</td>\n",
       "      <td>3.000000</td>\n",
       "      <td>0.000000</td>\n",
       "      <td>126.000000</td>\n",
       "      <td>2018.000000</td>\n",
       "      <td>10.000000</td>\n",
       "      <td>23.000000</td>\n",
       "      <td>0.000000</td>\n",
       "      <td>0.000000</td>\n",
       "      <td>0.000000</td>\n",
       "      <td>120.000000</td>\n",
       "      <td>1.000000</td>\n",
       "    </tr>\n",
       "    <tr>\n",
       "      <th>max</th>\n",
       "      <td>4.000000</td>\n",
       "      <td>10.000000</td>\n",
       "      <td>7.000000</td>\n",
       "      <td>17.000000</td>\n",
       "      <td>1.000000</td>\n",
       "      <td>443.000000</td>\n",
       "      <td>2018.000000</td>\n",
       "      <td>12.000000</td>\n",
       "      <td>31.000000</td>\n",
       "      <td>1.000000</td>\n",
       "      <td>13.000000</td>\n",
       "      <td>58.000000</td>\n",
       "      <td>540.000000</td>\n",
       "      <td>5.000000</td>\n",
       "    </tr>\n",
       "  </tbody>\n",
       "</table>\n",
       "</div>"
      ],
      "text/plain": [
       "       no_of_adults  no_of_children  no_of_weekend_nights  no_of_week_nights  \\\n",
       "count  36275.000000    36275.000000          36275.000000       36275.000000   \n",
       "mean       1.844962        0.105279              0.810724           2.204300   \n",
       "std        0.518715        0.402648              0.870644           1.410905   \n",
       "min        0.000000        0.000000              0.000000           0.000000   \n",
       "25%        2.000000        0.000000              0.000000           1.000000   \n",
       "50%        2.000000        0.000000              1.000000           2.000000   \n",
       "75%        2.000000        0.000000              2.000000           3.000000   \n",
       "max        4.000000       10.000000              7.000000          17.000000   \n",
       "\n",
       "       required_car_parking_space     lead_time  arrival_year  arrival_month  \\\n",
       "count                36275.000000  36275.000000  36275.000000   36275.000000   \n",
       "mean                     0.030986     85.232557   2017.820427       7.423653   \n",
       "std                      0.173281     85.930817      0.383836       3.069894   \n",
       "min                      0.000000      0.000000   2017.000000       1.000000   \n",
       "25%                      0.000000     17.000000   2018.000000       5.000000   \n",
       "50%                      0.000000     57.000000   2018.000000       8.000000   \n",
       "75%                      0.000000    126.000000   2018.000000      10.000000   \n",
       "max                      1.000000    443.000000   2018.000000      12.000000   \n",
       "\n",
       "       arrival_date  repeated_guest  no_of_previous_cancellations  \\\n",
       "count  36275.000000    36275.000000                  36275.000000   \n",
       "mean      15.596995        0.025637                      0.023349   \n",
       "std        8.740447        0.158053                      0.368331   \n",
       "min        1.000000        0.000000                      0.000000   \n",
       "25%        8.000000        0.000000                      0.000000   \n",
       "50%       16.000000        0.000000                      0.000000   \n",
       "75%       23.000000        0.000000                      0.000000   \n",
       "max       31.000000        1.000000                     13.000000   \n",
       "\n",
       "       no_of_previous_bookings_not_canceled  avg_price_per_room  \\\n",
       "count                          36275.000000        36275.000000   \n",
       "mean                               0.153411          103.423539   \n",
       "std                                1.754171           35.089424   \n",
       "min                                0.000000            0.000000   \n",
       "25%                                0.000000           80.300000   \n",
       "50%                                0.000000           99.450000   \n",
       "75%                                0.000000          120.000000   \n",
       "max                               58.000000          540.000000   \n",
       "\n",
       "       no_of_special_requests  \n",
       "count            36275.000000  \n",
       "mean                 0.619655  \n",
       "std                  0.786236  \n",
       "min                  0.000000  \n",
       "25%                  0.000000  \n",
       "50%                  0.000000  \n",
       "75%                  1.000000  \n",
       "max                  5.000000  "
      ]
     },
     "execution_count": 6,
     "metadata": {},
     "output_type": "execute_result"
    }
   ],
   "source": [
    "df.describe()"
   ]
  },
  {
   "cell_type": "markdown",
   "id": "e99c19f6-d265-4759-ab99-ff9ab9d5baf8",
   "metadata": {},
   "source": [
    "#### using duplicates to improving the quality and reliability of analyses and models."
   ]
  },
  {
   "cell_type": "code",
   "execution_count": 7,
   "id": "8d642b1d-fdc8-4821-9dea-e569311cc1c4",
   "metadata": {},
   "outputs": [
    {
     "data": {
      "text/plain": [
       "0"
      ]
     },
     "execution_count": 7,
     "metadata": {},
     "output_type": "execute_result"
    }
   ],
   "source": [
    "df.duplicated().sum()"
   ]
  },
  {
   "cell_type": "markdown",
   "id": "6e18ece8-2e26-4616-8869-986dc9098f10",
   "metadata": {},
   "source": [
    "####  Dropping columns with ID values in data cleaning prevents model overfitting and improves interpretability"
   ]
  },
  {
   "cell_type": "code",
   "execution_count": 8,
   "id": "2d32fb86-93fa-4349-b786-307ade3917ef",
   "metadata": {},
   "outputs": [],
   "source": [
    "df.drop(columns=[\"Booking_ID\"], axis=1, inplace=True)"
   ]
  },
  {
   "cell_type": "markdown",
   "id": "6604608b-3c82-402a-8fec-be3370378496",
   "metadata": {},
   "source": [
    "#### Checking if there any missing or null values in a dataset"
   ]
  },
  {
   "cell_type": "code",
   "execution_count": 9,
   "id": "c227119f-0f2e-4e1d-b212-8e18e02b97db",
   "metadata": {},
   "outputs": [
    {
     "data": {
      "text/plain": [
       "no_of_adults                            0\n",
       "no_of_children                          0\n",
       "no_of_weekend_nights                    0\n",
       "no_of_week_nights                       0\n",
       "type_of_meal_plan                       0\n",
       "required_car_parking_space              0\n",
       "room_type_reserved                      0\n",
       "lead_time                               0\n",
       "arrival_year                            0\n",
       "arrival_month                           0\n",
       "arrival_date                            0\n",
       "market_segment_type                     0\n",
       "repeated_guest                          0\n",
       "no_of_previous_cancellations            0\n",
       "no_of_previous_bookings_not_canceled    0\n",
       "avg_price_per_room                      0\n",
       "no_of_special_requests                  0\n",
       "booking_status                          0\n",
       "dtype: int64"
      ]
     },
     "execution_count": 9,
     "metadata": {},
     "output_type": "execute_result"
    }
   ],
   "source": [
    "df.isnull().sum()"
   ]
  },
  {
   "cell_type": "code",
   "execution_count": 10,
   "id": "f0ac82da-d12f-45d6-8cb6-31a252652655",
   "metadata": {},
   "outputs": [
    {
     "data": {
      "text/plain": [
       "no_of_adults                            0\n",
       "no_of_children                          0\n",
       "no_of_weekend_nights                    0\n",
       "no_of_week_nights                       0\n",
       "type_of_meal_plan                       0\n",
       "required_car_parking_space              0\n",
       "room_type_reserved                      0\n",
       "lead_time                               0\n",
       "arrival_year                            0\n",
       "arrival_month                           0\n",
       "arrival_date                            0\n",
       "market_segment_type                     0\n",
       "repeated_guest                          0\n",
       "no_of_previous_cancellations            0\n",
       "no_of_previous_bookings_not_canceled    0\n",
       "avg_price_per_room                      0\n",
       "no_of_special_requests                  0\n",
       "booking_status                          0\n",
       "dtype: int64"
      ]
     },
     "execution_count": 10,
     "metadata": {},
     "output_type": "execute_result"
    }
   ],
   "source": [
    "df.isna().sum()"
   ]
  },
  {
   "cell_type": "code",
   "execution_count": 11,
   "id": "6c5e962d-9b8d-48e5-a832-db25a952a5e2",
   "metadata": {},
   "outputs": [
    {
     "data": {
      "text/plain": [
       "booking_status\n",
       "Not_Canceled    24390\n",
       "Canceled        11885\n",
       "Name: count, dtype: int64"
      ]
     },
     "execution_count": 11,
     "metadata": {},
     "output_type": "execute_result"
    }
   ],
   "source": [
    "df[\"booking_status\"].value_counts()"
   ]
  },
  {
   "cell_type": "markdown",
   "id": "a716aa43-25bb-4be8-af63-90ccdabfd7cb",
   "metadata": {},
   "source": [
    "#### There are 24,390 instances of \"Not_Canceled\" bookings and \n",
    "#### 11,885 instances of \"Canceled\" bookings in the dataset."
   ]
  },
  {
   "cell_type": "code",
   "execution_count": 12,
   "id": "8f3e1aed-6642-4929-8c52-e3dc5ab18200",
   "metadata": {},
   "outputs": [
    {
     "data": {
      "text/plain": [
       "Text(0.5, 1.0, 'Number of Observations by months')"
      ]
     },
     "execution_count": 12,
     "metadata": {},
     "output_type": "execute_result"
    },
    {
     "data": {
      "image/png": "[encoded data removed]",
      "text/plain": [
       "<Figure size 640x480 with 1 Axes>"
      ]
     },
     "metadata": {},
     "output_type": "display_data"
    }
   ],
   "source": [
    "sns.countplot(x=df[\"arrival_month\"], color=\"purple\")\n",
    "plt.xlabel(\"months of year\")\n",
    "plt.ylabel(\"Count\")\n",
    "plt.title(\"Number of Observations by months\")"
   ]
  },
  {
   "cell_type": "markdown",
   "id": "0b2551a5-aab9-4b42-9310-4f288cf356cf",
   "metadata": {},
   "source": [
    "#### arrival month graph indicates the highest booking in month 10, the conclusion could be that\n",
    "#### October experiences the peak season for hotel reservations, suggesting potential opportunities\n",
    "#### for revenue maximization and resource allocation during this period."
   ]
  },
  {
   "cell_type": "code",
   "execution_count": 13,
   "id": "19cfe4b0-8707-47b8-93e5-a411a4b67ff8",
   "metadata": {},
   "outputs": [
    {
     "data": {
      "image/png": "[encoded data removed]",
      "text/plain": [
       "<Figure size 640x480 with 1 Axes>"
      ]
     },
     "metadata": {},
     "output_type": "display_data"
    }
   ],
   "source": [
    "plt.title(\"Arrival date\")\n",
    "sns.countplot(df,x=\"arrival_date\",hue=\"arrival_date\", color=\"green\")\n",
    "plt.show()"
   ]
  },
  {
   "cell_type": "markdown",
   "id": "005f9890-a3d5-4e1f-bafe-4660b7b75fbd",
   "metadata": {},
   "source": [
    "\n",
    "#### An arrival date graph in dataset visualizes the distribution of bookings \n",
    "#### over time, revealing patterns such as peak booking periods"
   ]
  },
  {
   "cell_type": "code",
   "execution_count": 14,
   "id": "119580de-2597-4c2c-877b-1b3501210460",
   "metadata": {},
   "outputs": [
    {
     "data": {
      "image/png": "[encoded data removed]",
      "text/plain": [
       "<Figure size 640x480 with 1 Axes>"
      ]
     },
     "metadata": {},
     "output_type": "display_data"
    }
   ],
   "source": [
    "sns.countplot(df,x=\"booking_status\",hue=\"booking_status\")\n",
    "plt.show()"
   ]
  },
  {
   "cell_type": "markdown",
   "id": "969b696e-258e-4f84-99d6-9694d8e606d9",
   "metadata": {},
   "source": [
    "#### count plot indicates a higher frequency of \"not cancelling\" bookings compared to cancellations,\n",
    "#### it suggests a trend of overall higher booking retention, indicating potential stability in reservations"
   ]
  },
  {
   "cell_type": "code",
   "execution_count": 15,
   "id": "3e9b31b3-b290-487f-b2d3-951ff20d4a4a",
   "metadata": {},
   "outputs": [
    {
     "data": {
      "text/plain": [
       "<Axes: title={'center': 'Arrival month vs booking status'}, xlabel='arrival_month', ylabel='booking_status'>"
      ]
     },
     "execution_count": 15,
     "metadata": {},
     "output_type": "execute_result"
    },
    {
     "data": {
      "image/png": "[encoded data removed]",
      "text/plain": [
       "<Figure size 640x480 with 2 Axes>"
      ]
     },
     "metadata": {},
     "output_type": "display_data"
    }
   ],
   "source": [
    "plt.title(\"Arrival month vs booking status\")\n",
    "sns.heatmap(pd.crosstab(columns=df[\"arrival_month\"],index=df[\"booking_status\"]), annot=True, fmt=\"d\",cmap=\"viridis\")"
   ]
  },
  {
   "cell_type": "markdown",
   "id": "cd17e3f5-5b02-46f6-a314-b1c66ebf6304",
   "metadata": {},
   "source": [
    "\n",
    "#### The graph comparing arrival month to booking status  reveal seasonal variations in cancellation rates"
   ]
  },
  {
   "cell_type": "code",
   "execution_count": 16,
   "id": "e5f9c6ff-db96-45c6-ab7b-f111cb3de092",
   "metadata": {},
   "outputs": [
    {
     "data": {
      "image/png": "[encoded data removed]",
      "text/plain": [
       "<Figure size 640x480 with 1 Axes>"
      ]
     },
     "metadata": {},
     "output_type": "display_data"
    }
   ],
   "source": [
    "sns.countplot(df,x=\"market_segment_type\",hue=\"market_segment_type\")\n",
    "plt.show()"
   ]
  },
  {
   "cell_type": "markdown",
   "id": "58ffb109-0554-4cd9-81e7-724325a0ea84",
   "metadata": {},
   "source": [
    "#### The count plot indicating the highest value in online market segment, followed by offline and the lowest \n",
    "#### in corporate,aviation,complementary, suggests that online channels are the primary source of bookings,\n",
    "#### followed by offline methods, while corporate complementary bookings are less common."
   ]
  },
  {
   "cell_type": "markdown",
   "id": "cee46662-d49b-4ed7-9b09-e306495c7d6b",
   "metadata": {},
   "source": [
    "#### removing outliers can be beneficial for improving model performance and data quality\n",
    "#### we detect and remove outliers"
   ]
  },
  {
   "cell_type": "code",
   "execution_count": 17,
   "id": "e7021fad-f968-4c15-af56-db45feb6bc29",
   "metadata": {},
   "outputs": [
    {
     "data": {
      "text/plain": [
       "<Axes: >"
      ]
     },
     "execution_count": 17,
     "metadata": {},
     "output_type": "execute_result"
    },
    {
     "data": {
      "image/png": "[encoded data removed]",
      "text/plain": [
       "<Figure size 640x480 with 1 Axes>"
      ]
     },
     "metadata": {},
     "output_type": "display_data"
    }
   ],
   "source": [
    "df[\"no_of_previous_cancellations\"].plot.box()"
   ]
  },
  {
   "cell_type": "code",
   "execution_count": 18,
   "id": "05cb72a6-2de7-4437-8032-15dc462b799c",
   "metadata": {},
   "outputs": [],
   "source": [
    "df = df[df[\"no_of_previous_cancellations\"]<= df[\"no_of_previous_cancellations\"].quantile(0.98)] "
   ]
  },
  {
   "cell_type": "code",
   "execution_count": 19,
   "id": "6d5bb64b-59f6-424e-8664-ff9f652b4cea",
   "metadata": {},
   "outputs": [
    {
     "data": {
      "text/plain": [
       "<Axes: >"
      ]
     },
     "execution_count": 19,
     "metadata": {},
     "output_type": "execute_result"
    },
    {
     "data": {
      "image/png": "[encoded data removed]",
      "text/plain": [
       "<Figure size 640x480 with 1 Axes>"
      ]
     },
     "metadata": {},
     "output_type": "display_data"
    }
   ],
   "source": [
    "df[\"no_of_previous_bookings_not_canceled\"].plot.box()"
   ]
  },
  {
   "cell_type": "code",
   "execution_count": 20,
   "id": "7bb464e5-2fba-4c63-a207-b941ecf50170",
   "metadata": {},
   "outputs": [],
   "source": [
    "df = df[df[\"no_of_previous_bookings_not_canceled\"]<=df[\"no_of_previous_bookings_not_canceled\"].quantile(0.96)]"
   ]
  },
  {
   "cell_type": "markdown",
   "id": "aafc8b12-3954-4c1d-b5d2-d5d0731b763d",
   "metadata": {},
   "source": [
    "#### Combining columns in data cleaning can help enhance data quality, create new features, \n",
    "#### simplify analysis, and improve the performance of machine learning models. so, we combine the two columns"
   ]
  },
  {
   "cell_type": "code",
   "execution_count": 21,
   "id": "b83ae98a-3a1b-4970-8154-54c4fc767571",
   "metadata": {},
   "outputs": [],
   "source": [
    "df[\"total_guests\"] = df[\"no_of_adults\"] + df[\"no_of_children\"]"
   ]
  },
  {
   "cell_type": "markdown",
   "id": "e6784ec3-b6a6-48b9-9843-a1b2d9ff6659",
   "metadata": {},
   "source": [
    "#### Using label encoding for the target column for checking the correlation \n",
    "#### label encoding is a useful technique for converting categorical variables into numerical format.\n",
    "#### we applying label encoding to columns(booking status, market segment type)"
   ]
  },
  {
   "cell_type": "code",
   "execution_count": 22,
   "id": "eb41a81b-b91c-493e-b13b-5b0c21ee150d",
   "metadata": {},
   "outputs": [],
   "source": [
    "from sklearn.preprocessing import LabelEncoder\n",
    "le = LabelEncoder()"
   ]
  },
  {
   "cell_type": "code",
   "execution_count": 23,
   "id": "ac9cd797-8238-466e-9e61-5a94b81df675",
   "metadata": {},
   "outputs": [
    {
     "data": {
      "text/plain": [
       "0        1\n",
       "1        1\n",
       "2        0\n",
       "3        0\n",
       "4        0\n",
       "        ..\n",
       "36270    1\n",
       "36271    0\n",
       "36272    1\n",
       "36273    0\n",
       "36274    1\n",
       "Name: booking_status, Length: 35345, dtype: int32"
      ]
     },
     "execution_count": 23,
     "metadata": {},
     "output_type": "execute_result"
    }
   ],
   "source": [
    "df[\"booking_status\"]= le.fit_transform(df[\"booking_status\"])\n",
    "df[\"booking_status\"]"
   ]
  },
  {
   "cell_type": "code",
   "execution_count": 24,
   "id": "f7057534-bf70-490a-9427-3d9db5a6063e",
   "metadata": {},
   "outputs": [
    {
     "data": {
      "text/plain": [
       "0        3\n",
       "1        4\n",
       "2        4\n",
       "3        4\n",
       "4        4\n",
       "        ..\n",
       "36270    4\n",
       "36271    4\n",
       "36272    4\n",
       "36273    4\n",
       "36274    3\n",
       "Name: market_segment_type, Length: 35345, dtype: int32"
      ]
     },
     "execution_count": 24,
     "metadata": {},
     "output_type": "execute_result"
    }
   ],
   "source": [
    "df[\"market_segment_type\"]= le.fit_transform(df[\"market_segment_type\"])\n",
    "df[\"market_segment_type\"]"
   ]
  },
  {
   "cell_type": "markdown",
   "id": "29591a3d-529a-42a4-a02d-05cf1c895946",
   "metadata": {},
   "source": [
    "#### Using correlation to measure the strength and direction of the relationship between two variables."
   ]
  },
  {
   "cell_type": "code",
   "execution_count": 25,
   "id": "157c75e3-5843-4fed-9bcc-39ca467f1d90",
   "metadata": {},
   "outputs": [
    {
     "data": {
      "text/html": [
       "<div>\n",
       "<style scoped>\n",
       "    .dataframe tbody tr th:only-of-type {\n",
       "        vertical-align: middle;\n",
       "    }\n",
       "\n",
       "    .dataframe tbody tr th {\n",
       "        vertical-align: top;\n",
       "    }\n",
       "\n",
       "    .dataframe thead th {\n",
       "        text-align: right;\n",
       "    }\n",
       "</style>\n",
       "<table border=\"1\" class=\"dataframe\">\n",
       "  <thead>\n",
       "    <tr style=\"text-align: right;\">\n",
       "      <th></th>\n",
       "      <th>total_guests</th>\n",
       "      <th>avg_price_per_room</th>\n",
       "    </tr>\n",
       "  </thead>\n",
       "  <tbody>\n",
       "    <tr>\n",
       "      <th>total_guests</th>\n",
       "      <td>1.000000</td>\n",
       "      <td>0.435343</td>\n",
       "    </tr>\n",
       "    <tr>\n",
       "      <th>avg_price_per_room</th>\n",
       "      <td>0.435343</td>\n",
       "      <td>1.000000</td>\n",
       "    </tr>\n",
       "  </tbody>\n",
       "</table>\n",
       "</div>"
      ],
      "text/plain": [
       "                    total_guests  avg_price_per_room\n",
       "total_guests            1.000000            0.435343\n",
       "avg_price_per_room      0.435343            1.000000"
      ]
     },
     "execution_count": 25,
     "metadata": {},
     "output_type": "execute_result"
    }
   ],
   "source": [
    "df[[\"total_guests\",\"avg_price_per_room\"]].corr(method=\"pearson\")"
   ]
  },
  {
   "cell_type": "markdown",
   "id": "69f5d56c-546e-4b5d-a3b6-1da247142f29",
   "metadata": {},
   "source": [
    "#### The correlation coefficient between the \"total_guests\" and \"avg_price_per_room\" variables is\n",
    "#### approximately 0.435343, indicating a moderate positive correlation between the two variables."
   ]
  },
  {
   "cell_type": "code",
   "execution_count": 26,
   "id": "cacc031f-a13b-4ada-af1a-364f8f5fe6d3",
   "metadata": {},
   "outputs": [
    {
     "data": {
      "text/html": [
       "<div>\n",
       "<style scoped>\n",
       "    .dataframe tbody tr th:only-of-type {\n",
       "        vertical-align: middle;\n",
       "    }\n",
       "\n",
       "    .dataframe tbody tr th {\n",
       "        vertical-align: top;\n",
       "    }\n",
       "\n",
       "    .dataframe thead th {\n",
       "        text-align: right;\n",
       "    }\n",
       "</style>\n",
       "<table border=\"1\" class=\"dataframe\">\n",
       "  <thead>\n",
       "    <tr style=\"text-align: right;\">\n",
       "      <th></th>\n",
       "      <th>no_of_adults</th>\n",
       "      <th>booking_status</th>\n",
       "    </tr>\n",
       "  </thead>\n",
       "  <tbody>\n",
       "    <tr>\n",
       "      <th>no_of_adults</th>\n",
       "      <td>1.000000</td>\n",
       "      <td>-0.068271</td>\n",
       "    </tr>\n",
       "    <tr>\n",
       "      <th>booking_status</th>\n",
       "      <td>-0.068271</td>\n",
       "      <td>1.000000</td>\n",
       "    </tr>\n",
       "  </tbody>\n",
       "</table>\n",
       "</div>"
      ],
      "text/plain": [
       "                no_of_adults  booking_status\n",
       "no_of_adults        1.000000       -0.068271\n",
       "booking_status     -0.068271        1.000000"
      ]
     },
     "execution_count": 26,
     "metadata": {},
     "output_type": "execute_result"
    }
   ],
   "source": [
    "df[[\"no_of_adults\",\"booking_status\"]].corr(method=\"pearson\")"
   ]
  },
  {
   "cell_type": "markdown",
   "id": "e55025bf-1477-493d-956c-87f89a615cd3",
   "metadata": {},
   "source": [
    "#### There's a weak negative correlation between the number of adults and the booking status"
   ]
  },
  {
   "cell_type": "code",
   "execution_count": 27,
   "id": "b1318f1d-26d2-47fd-a94a-4957e0dd4fd1",
   "metadata": {},
   "outputs": [
    {
     "data": {
      "text/html": [
       "<div>\n",
       "<style scoped>\n",
       "    .dataframe tbody tr th:only-of-type {\n",
       "        vertical-align: middle;\n",
       "    }\n",
       "\n",
       "    .dataframe tbody tr th {\n",
       "        vertical-align: top;\n",
       "    }\n",
       "\n",
       "    .dataframe thead th {\n",
       "        text-align: right;\n",
       "    }\n",
       "</style>\n",
       "<table border=\"1\" class=\"dataframe\">\n",
       "  <thead>\n",
       "    <tr style=\"text-align: right;\">\n",
       "      <th></th>\n",
       "      <th>no_of_children</th>\n",
       "      <th>booking_status</th>\n",
       "    </tr>\n",
       "  </thead>\n",
       "  <tbody>\n",
       "    <tr>\n",
       "      <th>no_of_children</th>\n",
       "      <td>1.000000</td>\n",
       "      <td>-0.029471</td>\n",
       "    </tr>\n",
       "    <tr>\n",
       "      <th>booking_status</th>\n",
       "      <td>-0.029471</td>\n",
       "      <td>1.000000</td>\n",
       "    </tr>\n",
       "  </tbody>\n",
       "</table>\n",
       "</div>"
      ],
      "text/plain": [
       "                no_of_children  booking_status\n",
       "no_of_children        1.000000       -0.029471\n",
       "booking_status       -0.029471        1.000000"
      ]
     },
     "execution_count": 27,
     "metadata": {},
     "output_type": "execute_result"
    }
   ],
   "source": [
    "df[[\"no_of_children\",\"booking_status\"]].corr(method=\"pearson\")"
   ]
  },
  {
   "cell_type": "markdown",
   "id": "5e8528e1-48fb-46b0-a19e-21c106c6ea11",
   "metadata": {},
   "source": [
    "#### The correlation matrix indicates that there is a weak negative correlation \n",
    "#### 0.029471) between the number of children and the booking status."
   ]
  },
  {
   "cell_type": "code",
   "execution_count": 28,
   "id": "0f1c3739-2b59-41a0-bd73-eb5ea715ee6f",
   "metadata": {},
   "outputs": [
    {
     "data": {
      "text/html": [
       "<div>\n",
       "<style scoped>\n",
       "    .dataframe tbody tr th:only-of-type {\n",
       "        vertical-align: middle;\n",
       "    }\n",
       "\n",
       "    .dataframe tbody tr th {\n",
       "        vertical-align: top;\n",
       "    }\n",
       "\n",
       "    .dataframe thead th {\n",
       "        text-align: right;\n",
       "    }\n",
       "</style>\n",
       "<table border=\"1\" class=\"dataframe\">\n",
       "  <thead>\n",
       "    <tr style=\"text-align: right;\">\n",
       "      <th></th>\n",
       "      <th>arrival_date</th>\n",
       "      <th>booking_status</th>\n",
       "    </tr>\n",
       "  </thead>\n",
       "  <tbody>\n",
       "    <tr>\n",
       "      <th>arrival_date</th>\n",
       "      <td>1.000000</td>\n",
       "      <td>-0.009644</td>\n",
       "    </tr>\n",
       "    <tr>\n",
       "      <th>booking_status</th>\n",
       "      <td>-0.009644</td>\n",
       "      <td>1.000000</td>\n",
       "    </tr>\n",
       "  </tbody>\n",
       "</table>\n",
       "</div>"
      ],
      "text/plain": [
       "                arrival_date  booking_status\n",
       "arrival_date        1.000000       -0.009644\n",
       "booking_status     -0.009644        1.000000"
      ]
     },
     "execution_count": 28,
     "metadata": {},
     "output_type": "execute_result"
    }
   ],
   "source": [
    "df[[\"arrival_date\",\"booking_status\"]].corr(method=\"pearson\")"
   ]
  },
  {
   "cell_type": "markdown",
   "id": "9673f272-0aa2-4266-bfd3-79080277daa4",
   "metadata": {},
   "source": [
    "#### The correlation matrix indicates that there is a very weak negative correlation \n",
    "#### (-0.009644) between the arrival date and the booking status"
   ]
  },
  {
   "cell_type": "code",
   "execution_count": 29,
   "id": "de252daa-7e06-4c37-a4cb-b513ea52ac88",
   "metadata": {},
   "outputs": [
    {
     "data": {
      "text/html": [
       "<div>\n",
       "<style scoped>\n",
       "    .dataframe tbody tr th:only-of-type {\n",
       "        vertical-align: middle;\n",
       "    }\n",
       "\n",
       "    .dataframe tbody tr th {\n",
       "        vertical-align: top;\n",
       "    }\n",
       "\n",
       "    .dataframe thead th {\n",
       "        text-align: right;\n",
       "    }\n",
       "</style>\n",
       "<table border=\"1\" class=\"dataframe\">\n",
       "  <thead>\n",
       "    <tr style=\"text-align: right;\">\n",
       "      <th></th>\n",
       "      <th>no_of_adults</th>\n",
       "      <th>avg_price_per_room</th>\n",
       "    </tr>\n",
       "  </thead>\n",
       "  <tbody>\n",
       "    <tr>\n",
       "      <th>no_of_adults</th>\n",
       "      <td>1.000000</td>\n",
       "      <td>0.276921</td>\n",
       "    </tr>\n",
       "    <tr>\n",
       "      <th>avg_price_per_room</th>\n",
       "      <td>0.276921</td>\n",
       "      <td>1.000000</td>\n",
       "    </tr>\n",
       "  </tbody>\n",
       "</table>\n",
       "</div>"
      ],
      "text/plain": [
       "                    no_of_adults  avg_price_per_room\n",
       "no_of_adults            1.000000            0.276921\n",
       "avg_price_per_room      0.276921            1.000000"
      ]
     },
     "execution_count": 29,
     "metadata": {},
     "output_type": "execute_result"
    }
   ],
   "source": [
    "df[[\"no_of_adults\",\"avg_price_per_room\"]].corr(method=\"pearson\")"
   ]
  },
  {
   "cell_type": "markdown",
   "id": "52bcda9a-1b4c-4ce6-b2ea-d2928239771e",
   "metadata": {},
   "source": [
    "#### The correlation matrix indicates a moderately positive correlation \n",
    "#### (0.276921) between the number of adults and the average price per room"
   ]
  },
  {
   "cell_type": "markdown",
   "id": "16d5c297-4826-4def-af42-5624696f90a5",
   "metadata": {},
   "source": [
    "#### dropping the columns that we combine earlier and unnecessary"
   ]
  },
  {
   "cell_type": "code",
   "execution_count": 30,
   "id": "646db15c-835e-4ac2-ac30-341b5bff825a",
   "metadata": {},
   "outputs": [],
   "source": [
    "df.drop(columns=[\"no_of_adults\",\"no_of_children\"], axis=1, inplace=True)"
   ]
  },
  {
   "cell_type": "code",
   "execution_count": 31,
   "id": "9d80aede-f68a-441a-855f-93c2243ec532",
   "metadata": {},
   "outputs": [
    {
     "data": {
      "text/html": [
       "<div>\n",
       "<style scoped>\n",
       "    .dataframe tbody tr th:only-of-type {\n",
       "        vertical-align: middle;\n",
       "    }\n",
       "\n",
       "    .dataframe tbody tr th {\n",
       "        vertical-align: top;\n",
       "    }\n",
       "\n",
       "    .dataframe thead th {\n",
       "        text-align: right;\n",
       "    }\n",
       "</style>\n",
       "<table border=\"1\" class=\"dataframe\">\n",
       "  <thead>\n",
       "    <tr style=\"text-align: right;\">\n",
       "      <th></th>\n",
       "      <th>no_of_weekend_nights</th>\n",
       "      <th>no_of_week_nights</th>\n",
       "      <th>type_of_meal_plan</th>\n",
       "      <th>required_car_parking_space</th>\n",
       "      <th>room_type_reserved</th>\n",
       "      <th>lead_time</th>\n",
       "      <th>arrival_year</th>\n",
       "      <th>arrival_month</th>\n",
       "      <th>arrival_date</th>\n",
       "      <th>market_segment_type</th>\n",
       "      <th>repeated_guest</th>\n",
       "      <th>no_of_previous_cancellations</th>\n",
       "      <th>no_of_previous_bookings_not_canceled</th>\n",
       "      <th>avg_price_per_room</th>\n",
       "      <th>no_of_special_requests</th>\n",
       "      <th>booking_status</th>\n",
       "      <th>total_guests</th>\n",
       "    </tr>\n",
       "  </thead>\n",
       "  <tbody>\n",
       "    <tr>\n",
       "      <th>0</th>\n",
       "      <td>1</td>\n",
       "      <td>2</td>\n",
       "      <td>Meal Plan 1</td>\n",
       "      <td>0</td>\n",
       "      <td>Room_Type 1</td>\n",
       "      <td>224</td>\n",
       "      <td>2017</td>\n",
       "      <td>10</td>\n",
       "      <td>2</td>\n",
       "      <td>3</td>\n",
       "      <td>0</td>\n",
       "      <td>0</td>\n",
       "      <td>0</td>\n",
       "      <td>65.00</td>\n",
       "      <td>0</td>\n",
       "      <td>1</td>\n",
       "      <td>2</td>\n",
       "    </tr>\n",
       "    <tr>\n",
       "      <th>1</th>\n",
       "      <td>2</td>\n",
       "      <td>3</td>\n",
       "      <td>Not Selected</td>\n",
       "      <td>0</td>\n",
       "      <td>Room_Type 1</td>\n",
       "      <td>5</td>\n",
       "      <td>2018</td>\n",
       "      <td>11</td>\n",
       "      <td>6</td>\n",
       "      <td>4</td>\n",
       "      <td>0</td>\n",
       "      <td>0</td>\n",
       "      <td>0</td>\n",
       "      <td>106.68</td>\n",
       "      <td>1</td>\n",
       "      <td>1</td>\n",
       "      <td>2</td>\n",
       "    </tr>\n",
       "    <tr>\n",
       "      <th>2</th>\n",
       "      <td>2</td>\n",
       "      <td>1</td>\n",
       "      <td>Meal Plan 1</td>\n",
       "      <td>0</td>\n",
       "      <td>Room_Type 1</td>\n",
       "      <td>1</td>\n",
       "      <td>2018</td>\n",
       "      <td>2</td>\n",
       "      <td>28</td>\n",
       "      <td>4</td>\n",
       "      <td>0</td>\n",
       "      <td>0</td>\n",
       "      <td>0</td>\n",
       "      <td>60.00</td>\n",
       "      <td>0</td>\n",
       "      <td>0</td>\n",
       "      <td>1</td>\n",
       "    </tr>\n",
       "    <tr>\n",
       "      <th>3</th>\n",
       "      <td>0</td>\n",
       "      <td>2</td>\n",
       "      <td>Meal Plan 1</td>\n",
       "      <td>0</td>\n",
       "      <td>Room_Type 1</td>\n",
       "      <td>211</td>\n",
       "      <td>2018</td>\n",
       "      <td>5</td>\n",
       "      <td>20</td>\n",
       "      <td>4</td>\n",
       "      <td>0</td>\n",
       "      <td>0</td>\n",
       "      <td>0</td>\n",
       "      <td>100.00</td>\n",
       "      <td>0</td>\n",
       "      <td>0</td>\n",
       "      <td>2</td>\n",
       "    </tr>\n",
       "    <tr>\n",
       "      <th>4</th>\n",
       "      <td>1</td>\n",
       "      <td>1</td>\n",
       "      <td>Not Selected</td>\n",
       "      <td>0</td>\n",
       "      <td>Room_Type 1</td>\n",
       "      <td>48</td>\n",
       "      <td>2018</td>\n",
       "      <td>4</td>\n",
       "      <td>11</td>\n",
       "      <td>4</td>\n",
       "      <td>0</td>\n",
       "      <td>0</td>\n",
       "      <td>0</td>\n",
       "      <td>94.50</td>\n",
       "      <td>0</td>\n",
       "      <td>0</td>\n",
       "      <td>2</td>\n",
       "    </tr>\n",
       "  </tbody>\n",
       "</table>\n",
       "</div>"
      ],
      "text/plain": [
       "   no_of_weekend_nights  no_of_week_nights type_of_meal_plan  \\\n",
       "0                     1                  2       Meal Plan 1   \n",
       "1                     2                  3      Not Selected   \n",
       "2                     2                  1       Meal Plan 1   \n",
       "3                     0                  2       Meal Plan 1   \n",
       "4                     1                  1      Not Selected   \n",
       "\n",
       "   required_car_parking_space room_type_reserved  lead_time  arrival_year  \\\n",
       "0                           0        Room_Type 1        224          2017   \n",
       "1                           0        Room_Type 1          5          2018   \n",
       "2                           0        Room_Type 1          1          2018   \n",
       "3                           0        Room_Type 1        211          2018   \n",
       "4                           0        Room_Type 1         48          2018   \n",
       "\n",
       "   arrival_month  arrival_date  market_segment_type  repeated_guest  \\\n",
       "0             10             2                    3               0   \n",
       "1             11             6                    4               0   \n",
       "2              2            28                    4               0   \n",
       "3              5            20                    4               0   \n",
       "4              4            11                    4               0   \n",
       "\n",
       "   no_of_previous_cancellations  no_of_previous_bookings_not_canceled  \\\n",
       "0                             0                                     0   \n",
       "1                             0                                     0   \n",
       "2                             0                                     0   \n",
       "3                             0                                     0   \n",
       "4                             0                                     0   \n",
       "\n",
       "   avg_price_per_room  no_of_special_requests  booking_status  total_guests  \n",
       "0               65.00                       0               1             2  \n",
       "1              106.68                       1               1             2  \n",
       "2               60.00                       0               0             1  \n",
       "3              100.00                       0               0             2  \n",
       "4               94.50                       0               0             2  "
      ]
     },
     "execution_count": 31,
     "metadata": {},
     "output_type": "execute_result"
    }
   ],
   "source": [
    "df.head()"
   ]
  },
  {
   "cell_type": "code",
   "execution_count": 32,
   "id": "a1b3b667-21a4-4357-8fa9-671456a41d91",
   "metadata": {},
   "outputs": [
    {
     "data": {
      "text/plain": [
       "room_type_reserved\n",
       "Room_Type 1    27322\n",
       "Room_Type 4     5990\n",
       "Room_Type 6      956\n",
       "Room_Type 2      685\n",
       "Room_Type 5      248\n",
       "Room_Type 7      137\n",
       "Room_Type 3        7\n",
       "Name: count, dtype: int64"
      ]
     },
     "execution_count": 32,
     "metadata": {},
     "output_type": "execute_result"
    }
   ],
   "source": [
    "df[\"room_type_reserved\"].value_counts()"
   ]
  },
  {
   "cell_type": "markdown",
   "id": "b83ebd72-2072-48ee-9edc-4614e824217e",
   "metadata": {},
   "source": [
    "#### Applying appropriate mappings to the data,can extract valuable insights and make informed decisions.\n",
    "#### so, we are converting two columns(room type reserved, type of meal plan) into numeric form"
   ]
  },
  {
   "cell_type": "code",
   "execution_count": 33,
   "id": "17b27110-af24-4afd-9347-6a8d559bffb7",
   "metadata": {},
   "outputs": [],
   "source": [
    "room = {\n",
    "    \"Room_Type 1\":1,\n",
    "    \"Room_Type 2\":2,\n",
    "    \"Room_Type 3\":3,     \n",
    "    \"Room_Type 4\":4,      \n",
    "    \"Room_Type 5\":5,      \n",
    "    \"Room_Type 6\":6,  \n",
    "    \"Room_Type 7\":7\n",
    "    \n",
    "}"
   ]
  },
  {
   "cell_type": "code",
   "execution_count": 34,
   "id": "e40b5b51-95e5-4170-8eda-e63f2027c1b3",
   "metadata": {},
   "outputs": [],
   "source": [
    "df[\"room_type_reserved\"] = df[\"room_type_reserved\"].map(room)"
   ]
  },
  {
   "cell_type": "code",
   "execution_count": 35,
   "id": "2fbfd2a3-db6d-48a2-80a7-344b3e7c4beb",
   "metadata": {},
   "outputs": [
    {
     "data": {
      "text/plain": [
       "array([1, 4, 2, 6, 5, 7, 3], dtype=int64)"
      ]
     },
     "execution_count": 35,
     "metadata": {},
     "output_type": "execute_result"
    }
   ],
   "source": [
    "df[\"room_type_reserved\"].unique()"
   ]
  },
  {
   "cell_type": "code",
   "execution_count": 36,
   "id": "567285fe-652b-434e-963b-084813482c27",
   "metadata": {},
   "outputs": [
    {
     "data": {
      "text/plain": [
       "type_of_meal_plan\n",
       "Meal Plan 1     26945\n",
       "Not Selected     5100\n",
       "Meal Plan 2      3296\n",
       "Meal Plan 3         4\n",
       "Name: count, dtype: int64"
      ]
     },
     "execution_count": 36,
     "metadata": {},
     "output_type": "execute_result"
    }
   ],
   "source": [
    "df[\"type_of_meal_plan\"].value_counts()"
   ]
  },
  {
   "cell_type": "code",
   "execution_count": 37,
   "id": "17e7812f-c84d-400a-868b-c240fbf1ff81",
   "metadata": {},
   "outputs": [],
   "source": [
    "meal_plan = {\n",
    "    \"Not Selected\":0,\n",
    "    \"Meal Plan 1\":1,\n",
    "    \"Meal Plan 2\":2,    \n",
    "    \"Meal Plan 3\":3      \n",
    "}"
   ]
  },
  {
   "cell_type": "code",
   "execution_count": 38,
   "id": "b399e94d-fa20-46af-8f2d-417ddc099d40",
   "metadata": {},
   "outputs": [],
   "source": [
    "df[\"meal_plan\"] = df[\"type_of_meal_plan\"].map(meal_plan).astype(int)"
   ]
  },
  {
   "cell_type": "code",
   "execution_count": 39,
   "id": "8a3439ea-55d4-42c9-a2c3-9052bea2ba4a",
   "metadata": {},
   "outputs": [
    {
     "data": {
      "text/plain": [
       "0        1\n",
       "1        0\n",
       "2        1\n",
       "3        1\n",
       "4        0\n",
       "        ..\n",
       "36270    1\n",
       "36271    1\n",
       "36272    1\n",
       "36273    0\n",
       "36274    1\n",
       "Name: meal_plan, Length: 35345, dtype: int32"
      ]
     },
     "execution_count": 39,
     "metadata": {},
     "output_type": "execute_result"
    }
   ],
   "source": [
    "df[\"meal_plan\"]"
   ]
  },
  {
   "cell_type": "markdown",
   "id": "7e15b7b9-70e4-4911-9771-4758ed86ec2c",
   "metadata": {},
   "source": [
    "#### dropping the columns after we created new by using mapping method"
   ]
  },
  {
   "cell_type": "code",
   "execution_count": 40,
   "id": "1e257331-2797-49dd-b250-2e3c17a980d6",
   "metadata": {},
   "outputs": [],
   "source": [
    "df.drop(columns=[\"type_of_meal_plan\"],axis=1, inplace=True)"
   ]
  },
  {
   "cell_type": "code",
   "execution_count": 41,
   "id": "a1e9f365-8a20-4748-b882-7258f10f4d57",
   "metadata": {},
   "outputs": [],
   "source": [
    "df.drop(columns=[\"lead_time\"],axis=1, inplace=True)"
   ]
  },
  {
   "cell_type": "markdown",
   "id": "5ea18a3e-52bc-4884-acfb-0e280c937db0",
   "metadata": {},
   "source": [
    "#### now we are checking the datatypes and columns which remaining after dropping"
   ]
  },
  {
   "cell_type": "code",
   "execution_count": 42,
   "id": "7bc5c236-4934-4020-9509-a260cef66116",
   "metadata": {},
   "outputs": [
    {
     "name": "stdout",
     "output_type": "stream",
     "text": [
      "<class 'pandas.core.frame.DataFrame'>\n",
      "Index: 35345 entries, 0 to 36274\n",
      "Data columns (total 16 columns):\n",
      " #   Column                                Non-Null Count  Dtype  \n",
      "---  ------                                --------------  -----  \n",
      " 0   no_of_weekend_nights                  35345 non-null  int64  \n",
      " 1   no_of_week_nights                     35345 non-null  int64  \n",
      " 2   required_car_parking_space            35345 non-null  int64  \n",
      " 3   room_type_reserved                    35345 non-null  int64  \n",
      " 4   arrival_year                          35345 non-null  int64  \n",
      " 5   arrival_month                         35345 non-null  int64  \n",
      " 6   arrival_date                          35345 non-null  int64  \n",
      " 7   market_segment_type                   35345 non-null  int32  \n",
      " 8   repeated_guest                        35345 non-null  int64  \n",
      " 9   no_of_previous_cancellations          35345 non-null  int64  \n",
      " 10  no_of_previous_bookings_not_canceled  35345 non-null  int64  \n",
      " 11  avg_price_per_room                    35345 non-null  float64\n",
      " 12  no_of_special_requests                35345 non-null  int64  \n",
      " 13  booking_status                        35345 non-null  int32  \n",
      " 14  total_guests                          35345 non-null  int64  \n",
      " 15  meal_plan                             35345 non-null  int32  \n",
      "dtypes: float64(1), int32(3), int64(12)\n",
      "memory usage: 4.2 MB\n"
     ]
    }
   ],
   "source": [
    "df.info()"
   ]
  },
  {
   "cell_type": "markdown",
   "id": "f0fa7fe3-7209-491e-9273-cabb490ddf85",
   "metadata": {},
   "source": [
    "#### the terms \"x\" and \"y\" typically represent the input features (independent variables) and \n",
    "#### the target variable (dependent variable)input features (x) represent the information used by the model \n",
    "#### for prediction,while the target variable (y) represents the quantity we are trying to predict"
   ]
  },
  {
   "cell_type": "code",
   "execution_count": 43,
   "id": "9d996a09-d62d-4b8b-a5df-75022a23c0df",
   "metadata": {},
   "outputs": [],
   "source": [
    "x=df.drop(\"booking_status\",axis=1)\n",
    "y=df[\"booking_status\"]"
   ]
  },
  {
   "cell_type": "code",
   "execution_count": 44,
   "id": "4657f0d8-eaad-4348-9541-80c9c9de31b2",
   "metadata": {},
   "outputs": [
    {
     "data": {
      "text/plain": [
       "(35345, 15)"
      ]
     },
     "execution_count": 44,
     "metadata": {},
     "output_type": "execute_result"
    }
   ],
   "source": [
    "x.shape"
   ]
  },
  {
   "cell_type": "code",
   "execution_count": 45,
   "id": "f81c6927-4b6d-4bf7-a98f-5bd46ca59973",
   "metadata": {},
   "outputs": [
    {
     "data": {
      "text/plain": [
       "(35345,)"
      ]
     },
     "execution_count": 45,
     "metadata": {},
     "output_type": "execute_result"
    }
   ],
   "source": [
    "y.shape"
   ]
  },
  {
   "cell_type": "markdown",
   "id": "db099614-dbd3-4a3c-be17-e7f2717db4e1",
   "metadata": {},
   "source": [
    " #### split the data into train and testt sets allows for model training on one portion of th\n",
    " #### data  and evaluation on another,"
   ]
  },
  {
   "cell_type": "code",
   "execution_count": 46,
   "id": "a30478fd-0134-42cc-9099-6aa5a3bc532d",
   "metadata": {},
   "outputs": [],
   "source": [
    "x_tr,x_te,y_tr,y_te = train_test_split(x,y,test_size=0.3,random_state=25)"
   ]
  },
  {
   "cell_type": "code",
   "execution_count": 47,
   "id": "8fdfcf32-83e2-4474-8d4c-d385b1cd753c",
   "metadata": {},
   "outputs": [
    {
     "data": {
      "text/plain": [
       "(24741, 15)"
      ]
     },
     "execution_count": 47,
     "metadata": {},
     "output_type": "execute_result"
    }
   ],
   "source": [
    "x_tr.shape"
   ]
  },
  {
   "cell_type": "code",
   "execution_count": 48,
   "id": "e42cb4ab-1e12-4f71-b3c8-bf5e2b098b58",
   "metadata": {},
   "outputs": [
    {
     "data": {
      "text/plain": [
       "(10604, 15)"
      ]
     },
     "execution_count": 48,
     "metadata": {},
     "output_type": "execute_result"
    }
   ],
   "source": [
    "x_te.shape"
   ]
  },
  {
   "cell_type": "markdown",
   "id": "63d2f077-45b4-4009-ad4a-473b275c19f1",
   "metadata": {},
   "source": [
    "# k-Means clustering"
   ]
  },
  {
   "cell_type": "code",
   "execution_count": 49,
   "id": "36870c39-1597-4caf-ae7e-d149d8949de0",
   "metadata": {},
   "outputs": [],
   "source": [
    "from sklearn.cluster import KMeans"
   ]
  },
  {
   "cell_type": "code",
   "execution_count": 50,
   "id": "8fe63342-d64c-4133-84e8-4f3b234bf176",
   "metadata": {},
   "outputs": [],
   "source": [
    "km = KMeans(n_clusters=2)"
   ]
  },
  {
   "cell_type": "code",
   "execution_count": 51,
   "id": "4b31dfb0-243a-4a6b-b9e4-481752bf42a6",
   "metadata": {},
   "outputs": [
    {
     "data": {
      "text/html": [
       "<style>#sk-container-id-1 {color: black;}#sk-container-id-1 pre{padding: 0;}#sk-container-id-1 div.sk-toggleable {background-color: white;}#sk-container-id-1 label.sk-toggleable__label {cursor: pointer;display: block;width: 100%;margin-bottom: 0;padding: 0.3em;box-sizing: border-box;text-align: center;}#sk-container-id-1 label.sk-toggleable__label-arrow:before {content: \"▸\";float: left;margin-right: 0.25em;color: #696969;}#sk-container-id-1 label.sk-toggleable__label-arrow:hover:before {color: black;}#sk-container-id-1 div.sk-estimator:hover label.sk-toggleable__label-arrow:before {color: black;}#sk-container-id-1 div.sk-toggleable__content {max-height: 0;max-width: 0;overflow: hidden;text-align: left;background-color: #f0f8ff;}#sk-container-id-1 div.sk-toggleable__content pre {margin: 0.2em;color: black;border-radius: 0.25em;background-color: #f0f8ff;}#sk-container-id-1 input.sk-toggleable__control:checked~div.sk-toggleable__content {max-height: 200px;max-width: 100%;overflow: auto;}#sk-container-id-1 input.sk-toggleable__control:checked~label.sk-toggleable__label-arrow:before {content: \"▾\";}#sk-container-id-1 div.sk-estimator input.sk-toggleable__control:checked~label.sk-toggleable__label {background-color: #d4ebff;}#sk-container-id-1 div.sk-label input.sk-toggleable__control:checked~label.sk-toggleable__label {background-color: #d4ebff;}#sk-container-id-1 input.sk-hidden--visually {border: 0;clip: rect(1px 1px 1px 1px);clip: rect(1px, 1px, 1px, 1px);height: 1px;margin: -1px;overflow: hidden;padding: 0;position: absolute;width: 1px;}#sk-container-id-1 div.sk-estimator {font-family: monospace;background-color: #f0f8ff;border: 1px dotted black;border-radius: 0.25em;box-sizing: border-box;margin-bottom: 0.5em;}#sk-container-id-1 div.sk-estimator:hover {background-color: #d4ebff;}#sk-container-id-1 div.sk-parallel-item::after {content: \"\";width: 100%;border-bottom: 1px solid gray;flex-grow: 1;}#sk-container-id-1 div.sk-label:hover label.sk-toggleable__label {background-color: #d4ebff;}#sk-container-id-1 div.sk-serial::before {content: \"\";position: absolute;border-left: 1px solid gray;box-sizing: border-box;top: 0;bottom: 0;left: 50%;z-index: 0;}#sk-container-id-1 div.sk-serial {display: flex;flex-direction: column;align-items: center;background-color: white;padding-right: 0.2em;padding-left: 0.2em;position: relative;}#sk-container-id-1 div.sk-item {position: relative;z-index: 1;}#sk-container-id-1 div.sk-parallel {display: flex;align-items: stretch;justify-content: center;background-color: white;position: relative;}#sk-container-id-1 div.sk-item::before, #sk-container-id-1 div.sk-parallel-item::before {content: \"\";position: absolute;border-left: 1px solid gray;box-sizing: border-box;top: 0;bottom: 0;left: 50%;z-index: -1;}#sk-container-id-1 div.sk-parallel-item {display: flex;flex-direction: column;z-index: 1;position: relative;background-color: white;}#sk-container-id-1 div.sk-parallel-item:first-child::after {align-self: flex-end;width: 50%;}#sk-container-id-1 div.sk-parallel-item:last-child::after {align-self: flex-start;width: 50%;}#sk-container-id-1 div.sk-parallel-item:only-child::after {width: 0;}#sk-container-id-1 div.sk-dashed-wrapped {border: 1px dashed gray;margin: 0 0.4em 0.5em 0.4em;box-sizing: border-box;padding-bottom: 0.4em;background-color: white;}#sk-container-id-1 div.sk-label label {font-family: monospace;font-weight: bold;display: inline-block;line-height: 1.2em;}#sk-container-id-1 div.sk-label-container {text-align: center;}#sk-container-id-1 div.sk-container {/* jupyter's `normalize.less` sets `[hidden] { display: none; }` but bootstrap.min.css set `[hidden] { display: none !important; }` so we also need the `!important` here to be able to override the default hidden behavior on the sphinx rendered scikit-learn.org. See: https://github.com/scikit-learn/scikit-learn/issues/21755 */display: inline-block !important;position: relative;}#sk-container-id-1 div.sk-text-repr-fallback {display: none;}</style><div id=\"sk-container-id-1\" class=\"sk-top-container\"><div class=\"sk-text-repr-fallback\"><pre>KMeans(n_clusters=2)</pre><b>In a Jupyter environment, please rerun this cell to show the HTML representation or trust the notebook. <br />On GitHub, the HTML representation is unable to render, please try loading this page with nbviewer.org.</b></div><div class=\"sk-container\" hidden><div class=\"sk-item\"><div class=\"sk-estimator sk-toggleable\"><input class=\"sk-toggleable__control sk-hidden--visually\" id=\"sk-estimator-id-1\" type=\"checkbox\" checked><label for=\"sk-estimator-id-1\" class=\"sk-toggleable__label sk-toggleable__label-arrow\">KMeans</label><div class=\"sk-toggleable__content\"><pre>KMeans(n_clusters=2)</pre></div></div></div></div></div>"
      ],
      "text/plain": [
       "KMeans(n_clusters=2)"
      ]
     },
     "execution_count": 51,
     "metadata": {},
     "output_type": "execute_result"
    }
   ],
   "source": [
    "km.fit(x_tr)"
   ]
  },
  {
   "cell_type": "code",
   "execution_count": 52,
   "id": "7d02e4d3-ea5a-4865-966d-4e68b7c9fd6f",
   "metadata": {},
   "outputs": [],
   "source": [
    "y_pred = km.predict(x_te)"
   ]
  },
  {
   "cell_type": "code",
   "execution_count": 53,
   "id": "828c7e83-3386-4a54-a88b-2423b5b7f49d",
   "metadata": {},
   "outputs": [],
   "source": [
    "f1_km = f1_score(y_te,y_pred)\n",
    "pr_km = precision_score(y_te,y_pred)\n",
    "rec_km = recall_score(y_te,y_pred)"
   ]
  },
  {
   "cell_type": "code",
   "execution_count": 54,
   "id": "f6148eb8-a861-4bce-8ed6-ce2fec1b7a07",
   "metadata": {},
   "outputs": [
    {
     "data": {
      "text/plain": [
       "0.39428517540550734"
      ]
     },
     "execution_count": 54,
     "metadata": {},
     "output_type": "execute_result"
    }
   ],
   "source": [
    "a1 = accuracy_score(y_te,y_pred)\n",
    "a1"
   ]
  },
  {
   "cell_type": "markdown",
   "id": "e7072bae-678e-4089-8ae2-c8986d24e98b",
   "metadata": {},
   "source": [
    "\n",
    "#### The accuracy score of 0.6033572236891739 for K-means clustering indicates the proportion of data points\n",
    "#### correctly assigned to their clusters, providing a measure of how well the clusters represent the underlying \n",
    "#### "
   ]
  },
  {
   "cell_type": "markdown",
   "id": "9d7c6ea6-2432-4f65-a880-2660da97f51c",
   "metadata": {},
   "source": [
    "# K-Nearest Neighbors (KNN)"
   ]
  },
  {
   "cell_type": "markdown",
   "id": "97e1869c-67e8-42e6-ba70-4d56687e91d6",
   "metadata": {},
   "source": [
    "#### K-nearest neighbors (KNN) is used for classification and regression tasks by identifying the class \n",
    "#### or value of a data point based on the majority class or average of its nearest neighbors"
   ]
  },
  {
   "cell_type": "code",
   "execution_count": 55,
   "id": "ef5bcb0a-38a7-4f8f-a4a9-1bd1f8314205",
   "metadata": {},
   "outputs": [],
   "source": [
    "from sklearn.neighbors import KNeighborsClassifier"
   ]
  },
  {
   "cell_type": "code",
   "execution_count": 56,
   "id": "4289c986-f981-47cb-85bb-a39934569993",
   "metadata": {},
   "outputs": [],
   "source": [
    "knc = KNeighborsClassifier(n_neighbors=3)"
   ]
  },
  {
   "cell_type": "code",
   "execution_count": 57,
   "id": "af8a3293-9402-4cd7-acf8-4824e79661ec",
   "metadata": {},
   "outputs": [
    {
     "data": {
      "text/html": [
       "<style>#sk-container-id-2 {color: black;}#sk-container-id-2 pre{padding: 0;}#sk-container-id-2 div.sk-toggleable {background-color: white;}#sk-container-id-2 label.sk-toggleable__label {cursor: pointer;display: block;width: 100%;margin-bottom: 0;padding: 0.3em;box-sizing: border-box;text-align: center;}#sk-container-id-2 label.sk-toggleable__label-arrow:before {content: \"▸\";float: left;margin-right: 0.25em;color: #696969;}#sk-container-id-2 label.sk-toggleable__label-arrow:hover:before {color: black;}#sk-container-id-2 div.sk-estimator:hover label.sk-toggleable__label-arrow:before {color: black;}#sk-container-id-2 div.sk-toggleable__content {max-height: 0;max-width: 0;overflow: hidden;text-align: left;background-color: #f0f8ff;}#sk-container-id-2 div.sk-toggleable__content pre {margin: 0.2em;color: black;border-radius: 0.25em;background-color: #f0f8ff;}#sk-container-id-2 input.sk-toggleable__control:checked~div.sk-toggleable__content {max-height: 200px;max-width: 100%;overflow: auto;}#sk-container-id-2 input.sk-toggleable__control:checked~label.sk-toggleable__label-arrow:before {content: \"▾\";}#sk-container-id-2 div.sk-estimator input.sk-toggleable__control:checked~label.sk-toggleable__label {background-color: #d4ebff;}#sk-container-id-2 div.sk-label input.sk-toggleable__control:checked~label.sk-toggleable__label {background-color: #d4ebff;}#sk-container-id-2 input.sk-hidden--visually {border: 0;clip: rect(1px 1px 1px 1px);clip: rect(1px, 1px, 1px, 1px);height: 1px;margin: -1px;overflow: hidden;padding: 0;position: absolute;width: 1px;}#sk-container-id-2 div.sk-estimator {font-family: monospace;background-color: #f0f8ff;border: 1px dotted black;border-radius: 0.25em;box-sizing: border-box;margin-bottom: 0.5em;}#sk-container-id-2 div.sk-estimator:hover {background-color: #d4ebff;}#sk-container-id-2 div.sk-parallel-item::after {content: \"\";width: 100%;border-bottom: 1px solid gray;flex-grow: 1;}#sk-container-id-2 div.sk-label:hover label.sk-toggleable__label {background-color: #d4ebff;}#sk-container-id-2 div.sk-serial::before {content: \"\";position: absolute;border-left: 1px solid gray;box-sizing: border-box;top: 0;bottom: 0;left: 50%;z-index: 0;}#sk-container-id-2 div.sk-serial {display: flex;flex-direction: column;align-items: center;background-color: white;padding-right: 0.2em;padding-left: 0.2em;position: relative;}#sk-container-id-2 div.sk-item {position: relative;z-index: 1;}#sk-container-id-2 div.sk-parallel {display: flex;align-items: stretch;justify-content: center;background-color: white;position: relative;}#sk-container-id-2 div.sk-item::before, #sk-container-id-2 div.sk-parallel-item::before {content: \"\";position: absolute;border-left: 1px solid gray;box-sizing: border-box;top: 0;bottom: 0;left: 50%;z-index: -1;}#sk-container-id-2 div.sk-parallel-item {display: flex;flex-direction: column;z-index: 1;position: relative;background-color: white;}#sk-container-id-2 div.sk-parallel-item:first-child::after {align-self: flex-end;width: 50%;}#sk-container-id-2 div.sk-parallel-item:last-child::after {align-self: flex-start;width: 50%;}#sk-container-id-2 div.sk-parallel-item:only-child::after {width: 0;}#sk-container-id-2 div.sk-dashed-wrapped {border: 1px dashed gray;margin: 0 0.4em 0.5em 0.4em;box-sizing: border-box;padding-bottom: 0.4em;background-color: white;}#sk-container-id-2 div.sk-label label {font-family: monospace;font-weight: bold;display: inline-block;line-height: 1.2em;}#sk-container-id-2 div.sk-label-container {text-align: center;}#sk-container-id-2 div.sk-container {/* jupyter's `normalize.less` sets `[hidden] { display: none; }` but bootstrap.min.css set `[hidden] { display: none !important; }` so we also need the `!important` here to be able to override the default hidden behavior on the sphinx rendered scikit-learn.org. See: https://github.com/scikit-learn/scikit-learn/issues/21755 */display: inline-block !important;position: relative;}#sk-container-id-2 div.sk-text-repr-fallback {display: none;}</style><div id=\"sk-container-id-2\" class=\"sk-top-container\"><div class=\"sk-text-repr-fallback\"><pre>KNeighborsClassifier(n_neighbors=3)</pre><b>In a Jupyter environment, please rerun this cell to show the HTML representation or trust the notebook. <br />On GitHub, the HTML representation is unable to render, please try loading this page with nbviewer.org.</b></div><div class=\"sk-container\" hidden><div class=\"sk-item\"><div class=\"sk-estimator sk-toggleable\"><input class=\"sk-toggleable__control sk-hidden--visually\" id=\"sk-estimator-id-2\" type=\"checkbox\" checked><label for=\"sk-estimator-id-2\" class=\"sk-toggleable__label sk-toggleable__label-arrow\">KNeighborsClassifier</label><div class=\"sk-toggleable__content\"><pre>KNeighborsClassifier(n_neighbors=3)</pre></div></div></div></div></div>"
      ],
      "text/plain": [
       "KNeighborsClassifier(n_neighbors=3)"
      ]
     },
     "execution_count": 57,
     "metadata": {},
     "output_type": "execute_result"
    }
   ],
   "source": [
    "knc.fit(x, y)"
   ]
  },
  {
   "cell_type": "code",
   "execution_count": 58,
   "id": "39bdfa8b-e6d4-4df8-b636-749c45eb6be1",
   "metadata": {},
   "outputs": [],
   "source": [
    "y_pred = knc.predict(x_te)"
   ]
  },
  {
   "cell_type": "code",
   "execution_count": 59,
   "id": "d01a54be-fc92-4c5f-99d9-5d70d3fab15c",
   "metadata": {},
   "outputs": [
    {
     "data": {
      "text/plain": [
       "0.8936987187260014"
      ]
     },
     "execution_count": 59,
     "metadata": {},
     "output_type": "execute_result"
    }
   ],
   "source": [
    "knc.score(x_tr,y_tr)"
   ]
  },
  {
   "cell_type": "code",
   "execution_count": 60,
   "id": "608d9da2-3c78-4d14-8978-c66379d84feb",
   "metadata": {},
   "outputs": [],
   "source": [
    "y_pred = knc.predict(x_te)"
   ]
  },
  {
   "cell_type": "code",
   "execution_count": 61,
   "id": "0efd971f-aad1-454a-a94d-e0db67a431fb",
   "metadata": {},
   "outputs": [],
   "source": [
    "f1_knc = f1_score(y_te,y_pred)\n",
    "pr_knc = precision_score(y_te,y_pred)\n",
    "rec_knc = recall_score(y_te,y_pred)"
   ]
  },
  {
   "cell_type": "code",
   "execution_count": 62,
   "id": "47a4418a-885a-4099-b96a-a3b46311acb9",
   "metadata": {},
   "outputs": [
    {
     "data": {
      "text/plain": [
       "0.8925877027536778"
      ]
     },
     "execution_count": 62,
     "metadata": {},
     "output_type": "execute_result"
    }
   ],
   "source": [
    "a2 = accuracy_score(y_te, y_pred)\n",
    "a2"
   ]
  },
  {
   "cell_type": "markdown",
   "id": "c9bb3a3f-d2da-4b44-bf34-ba36fbb1d934",
   "metadata": {},
   "source": [
    "\n",
    "#### An accuracy of 0.6601282534892493 for K-nearest neighbors (KNN) indicates that approximately 66.01% \n",
    "#### of the predictions made by the model are correct"
   ]
  },
  {
   "cell_type": "markdown",
   "id": "0aee43fc-c39c-4ae9-9720-1a302af53859",
   "metadata": {},
   "source": [
    "# AdaBoostClassifier"
   ]
  },
  {
   "cell_type": "markdown",
   "id": "9b866744-8bf4-4b6c-b71d-b7b45d4f6738",
   "metadata": {},
   "source": [
    "#### AdaBoost often leads to better classification accuracy compared to individual weak learners¶\n",
    "#### using adaboost model"
   ]
  },
  {
   "cell_type": "code",
   "execution_count": 63,
   "id": "04627529-7b1e-4749-be6a-cc3a1333f4dd",
   "metadata": {},
   "outputs": [],
   "source": [
    "base_est = DecisionTreeClassifier()"
   ]
  },
  {
   "cell_type": "code",
   "execution_count": 64,
   "id": "2bf4877d-078f-485e-800d-690cd80768fd",
   "metadata": {},
   "outputs": [],
   "source": [
    "abc = AdaBoostClassifier(estimator=base_est, n_estimators=100)"
   ]
  },
  {
   "cell_type": "code",
   "execution_count": 65,
   "id": "5205f004-1b1b-4ac7-b504-645e6b719a4a",
   "metadata": {},
   "outputs": [
    {
     "data": {
      "text/html": [
       "<style>#sk-container-id-3 {color: black;}#sk-container-id-3 pre{padding: 0;}#sk-container-id-3 div.sk-toggleable {background-color: white;}#sk-container-id-3 label.sk-toggleable__label {cursor: pointer;display: block;width: 100%;margin-bottom: 0;padding: 0.3em;box-sizing: border-box;text-align: center;}#sk-container-id-3 label.sk-toggleable__label-arrow:before {content: \"▸\";float: left;margin-right: 0.25em;color: #696969;}#sk-container-id-3 label.sk-toggleable__label-arrow:hover:before {color: black;}#sk-container-id-3 div.sk-estimator:hover label.sk-toggleable__label-arrow:before {color: black;}#sk-container-id-3 div.sk-toggleable__content {max-height: 0;max-width: 0;overflow: hidden;text-align: left;background-color: #f0f8ff;}#sk-container-id-3 div.sk-toggleable__content pre {margin: 0.2em;color: black;border-radius: 0.25em;background-color: #f0f8ff;}#sk-container-id-3 input.sk-toggleable__control:checked~div.sk-toggleable__content {max-height: 200px;max-width: 100%;overflow: auto;}#sk-container-id-3 input.sk-toggleable__control:checked~label.sk-toggleable__label-arrow:before {content: \"▾\";}#sk-container-id-3 div.sk-estimator input.sk-toggleable__control:checked~label.sk-toggleable__label {background-color: #d4ebff;}#sk-container-id-3 div.sk-label input.sk-toggleable__control:checked~label.sk-toggleable__label {background-color: #d4ebff;}#sk-container-id-3 input.sk-hidden--visually {border: 0;clip: rect(1px 1px 1px 1px);clip: rect(1px, 1px, 1px, 1px);height: 1px;margin: -1px;overflow: hidden;padding: 0;position: absolute;width: 1px;}#sk-container-id-3 div.sk-estimator {font-family: monospace;background-color: #f0f8ff;border: 1px dotted black;border-radius: 0.25em;box-sizing: border-box;margin-bottom: 0.5em;}#sk-container-id-3 div.sk-estimator:hover {background-color: #d4ebff;}#sk-container-id-3 div.sk-parallel-item::after {content: \"\";width: 100%;border-bottom: 1px solid gray;flex-grow: 1;}#sk-container-id-3 div.sk-label:hover label.sk-toggleable__label {background-color: #d4ebff;}#sk-container-id-3 div.sk-serial::before {content: \"\";position: absolute;border-left: 1px solid gray;box-sizing: border-box;top: 0;bottom: 0;left: 50%;z-index: 0;}#sk-container-id-3 div.sk-serial {display: flex;flex-direction: column;align-items: center;background-color: white;padding-right: 0.2em;padding-left: 0.2em;position: relative;}#sk-container-id-3 div.sk-item {position: relative;z-index: 1;}#sk-container-id-3 div.sk-parallel {display: flex;align-items: stretch;justify-content: center;background-color: white;position: relative;}#sk-container-id-3 div.sk-item::before, #sk-container-id-3 div.sk-parallel-item::before {content: \"\";position: absolute;border-left: 1px solid gray;box-sizing: border-box;top: 0;bottom: 0;left: 50%;z-index: -1;}#sk-container-id-3 div.sk-parallel-item {display: flex;flex-direction: column;z-index: 1;position: relative;background-color: white;}#sk-container-id-3 div.sk-parallel-item:first-child::after {align-self: flex-end;width: 50%;}#sk-container-id-3 div.sk-parallel-item:last-child::after {align-self: flex-start;width: 50%;}#sk-container-id-3 div.sk-parallel-item:only-child::after {width: 0;}#sk-container-id-3 div.sk-dashed-wrapped {border: 1px dashed gray;margin: 0 0.4em 0.5em 0.4em;box-sizing: border-box;padding-bottom: 0.4em;background-color: white;}#sk-container-id-3 div.sk-label label {font-family: monospace;font-weight: bold;display: inline-block;line-height: 1.2em;}#sk-container-id-3 div.sk-label-container {text-align: center;}#sk-container-id-3 div.sk-container {/* jupyter's `normalize.less` sets `[hidden] { display: none; }` but bootstrap.min.css set `[hidden] { display: none !important; }` so we also need the `!important` here to be able to override the default hidden behavior on the sphinx rendered scikit-learn.org. See: https://github.com/scikit-learn/scikit-learn/issues/21755 */display: inline-block !important;position: relative;}#sk-container-id-3 div.sk-text-repr-fallback {display: none;}</style><div id=\"sk-container-id-3\" class=\"sk-top-container\"><div class=\"sk-text-repr-fallback\"><pre>AdaBoostClassifier(estimator=DecisionTreeClassifier(), n_estimators=100)</pre><b>In a Jupyter environment, please rerun this cell to show the HTML representation or trust the notebook. <br />On GitHub, the HTML representation is unable to render, please try loading this page with nbviewer.org.</b></div><div class=\"sk-container\" hidden><div class=\"sk-item sk-dashed-wrapped\"><div class=\"sk-label-container\"><div class=\"sk-label sk-toggleable\"><input class=\"sk-toggleable__control sk-hidden--visually\" id=\"sk-estimator-id-3\" type=\"checkbox\" ><label for=\"sk-estimator-id-3\" class=\"sk-toggleable__label sk-toggleable__label-arrow\">AdaBoostClassifier</label><div class=\"sk-toggleable__content\"><pre>AdaBoostClassifier(estimator=DecisionTreeClassifier(), n_estimators=100)</pre></div></div></div><div class=\"sk-parallel\"><div class=\"sk-parallel-item\"><div class=\"sk-item\"><div class=\"sk-label-container\"><div class=\"sk-label sk-toggleable\"><input class=\"sk-toggleable__control sk-hidden--visually\" id=\"sk-estimator-id-4\" type=\"checkbox\" ><label for=\"sk-estimator-id-4\" class=\"sk-toggleable__label sk-toggleable__label-arrow\">estimator: DecisionTreeClassifier</label><div class=\"sk-toggleable__content\"><pre>DecisionTreeClassifier()</pre></div></div></div><div class=\"sk-serial\"><div class=\"sk-item\"><div class=\"sk-estimator sk-toggleable\"><input class=\"sk-toggleable__control sk-hidden--visually\" id=\"sk-estimator-id-5\" type=\"checkbox\" ><label for=\"sk-estimator-id-5\" class=\"sk-toggleable__label sk-toggleable__label-arrow\">DecisionTreeClassifier</label><div class=\"sk-toggleable__content\"><pre>DecisionTreeClassifier()</pre></div></div></div></div></div></div></div></div></div></div>"
      ],
      "text/plain": [
       "AdaBoostClassifier(estimator=DecisionTreeClassifier(), n_estimators=100)"
      ]
     },
     "execution_count": 65,
     "metadata": {},
     "output_type": "execute_result"
    }
   ],
   "source": [
    "abc.fit(x_tr,y_tr)"
   ]
  },
  {
   "cell_type": "code",
   "execution_count": 66,
   "id": "119c101b-3cde-4d89-97da-c09eab5da991",
   "metadata": {},
   "outputs": [
    {
     "data": {
      "text/plain": [
       "0.9846004607736146"
      ]
     },
     "execution_count": 66,
     "metadata": {},
     "output_type": "execute_result"
    }
   ],
   "source": [
    "abc.score(x_tr,y_tr)"
   ]
  },
  {
   "cell_type": "code",
   "execution_count": 67,
   "id": "f7305518-51b1-4e01-964e-b294e5133d78",
   "metadata": {},
   "outputs": [],
   "source": [
    "y_pr = abc.predict(x_te)"
   ]
  },
  {
   "cell_type": "code",
   "execution_count": 68,
   "id": "40ac8a10-c881-4772-8917-64d6c29a72b5",
   "metadata": {},
   "outputs": [],
   "source": [
    "f1_abc = f1_score(y_te,y_pred)\n",
    "pr_abc = precision_score(y_te,y_pred)\n",
    "rec_abc = recall_score(y_te,y_pred)"
   ]
  },
  {
   "cell_type": "code",
   "execution_count": 69,
   "id": "9d527148-e6d3-4e92-9099-c4230d17c1ca",
   "metadata": {},
   "outputs": [
    {
     "data": {
      "text/plain": [
       "0.8262919652961147"
      ]
     },
     "execution_count": 69,
     "metadata": {},
     "output_type": "execute_result"
    }
   ],
   "source": [
    "a3 = accuracy_score(y_te, y_pr)\n",
    "a3"
   ]
  },
  {
   "cell_type": "markdown",
   "id": "c6016b86-0c01-4fc1-992b-198ed841df95",
   "metadata": {},
   "source": [
    "#### The accuracy of an AdaBoost in your hotel reservation data is 0.7418898528857035, \n",
    "#### it means that approximately 74.19% of the predictions made by the model are correct"
   ]
  },
  {
   "cell_type": "markdown",
   "id": "018c572d-1681-4e2e-9a78-e9a197a06ff2",
   "metadata": {},
   "source": [
    "# Support Vector Machine"
   ]
  },
  {
   "cell_type": "markdown",
   "id": "d490fc1d-adb3-4e1e-a412-2a1143fc3a23",
   "metadata": {},
   "source": [
    "#### SVCs are a versatile and effective algorithm for classification tasks, especially in scenarios where \n",
    "#### the data is high-dimensional, non-linearly separable, and there is a need for robustness against overfitting"
   ]
  },
  {
   "cell_type": "code",
   "execution_count": 70,
   "id": "50bf5d2f-8e7e-4cc3-af07-993fc2cc62ef",
   "metadata": {},
   "outputs": [],
   "source": [
    "from sklearn.preprocessing import StandardScaler"
   ]
  },
  {
   "cell_type": "code",
   "execution_count": 71,
   "id": "9a02e4bc-df0d-4a63-ad96-b11fff95431c",
   "metadata": {},
   "outputs": [],
   "source": [
    "scaler = StandardScaler()"
   ]
  },
  {
   "cell_type": "code",
   "execution_count": 72,
   "id": "c0c14f62-458c-4b39-b751-00688b1c4918",
   "metadata": {},
   "outputs": [],
   "source": [
    "x_tr = scaler.fit_transform(x_tr)"
   ]
  },
  {
   "cell_type": "code",
   "execution_count": 73,
   "id": "852d328f-fd4e-4ac3-a689-e8147f9bd549",
   "metadata": {},
   "outputs": [],
   "source": [
    "x_te = scaler.transform(x_te)"
   ]
  },
  {
   "cell_type": "code",
   "execution_count": 74,
   "id": "fa4f4ae1-fe79-4396-8596-74a4f2a1fa6d",
   "metadata": {},
   "outputs": [],
   "source": [
    "svc = SVC(kernel=\"linear\")"
   ]
  },
  {
   "cell_type": "code",
   "execution_count": 75,
   "id": "28f84c4c-1505-4921-963c-c88f9f09a15a",
   "metadata": {},
   "outputs": [
    {
     "data": {
      "text/html": [
       "<style>#sk-container-id-4 {color: black;}#sk-container-id-4 pre{padding: 0;}#sk-container-id-4 div.sk-toggleable {background-color: white;}#sk-container-id-4 label.sk-toggleable__label {cursor: pointer;display: block;width: 100%;margin-bottom: 0;padding: 0.3em;box-sizing: border-box;text-align: center;}#sk-container-id-4 label.sk-toggleable__label-arrow:before {content: \"▸\";float: left;margin-right: 0.25em;color: #696969;}#sk-container-id-4 label.sk-toggleable__label-arrow:hover:before {color: black;}#sk-container-id-4 div.sk-estimator:hover label.sk-toggleable__label-arrow:before {color: black;}#sk-container-id-4 div.sk-toggleable__content {max-height: 0;max-width: 0;overflow: hidden;text-align: left;background-color: #f0f8ff;}#sk-container-id-4 div.sk-toggleable__content pre {margin: 0.2em;color: black;border-radius: 0.25em;background-color: #f0f8ff;}#sk-container-id-4 input.sk-toggleable__control:checked~div.sk-toggleable__content {max-height: 200px;max-width: 100%;overflow: auto;}#sk-container-id-4 input.sk-toggleable__control:checked~label.sk-toggleable__label-arrow:before {content: \"▾\";}#sk-container-id-4 div.sk-estimator input.sk-toggleable__control:checked~label.sk-toggleable__label {background-color: #d4ebff;}#sk-container-id-4 div.sk-label input.sk-toggleable__control:checked~label.sk-toggleable__label {background-color: #d4ebff;}#sk-container-id-4 input.sk-hidden--visually {border: 0;clip: rect(1px 1px 1px 1px);clip: rect(1px, 1px, 1px, 1px);height: 1px;margin: -1px;overflow: hidden;padding: 0;position: absolute;width: 1px;}#sk-container-id-4 div.sk-estimator {font-family: monospace;background-color: #f0f8ff;border: 1px dotted black;border-radius: 0.25em;box-sizing: border-box;margin-bottom: 0.5em;}#sk-container-id-4 div.sk-estimator:hover {background-color: #d4ebff;}#sk-container-id-4 div.sk-parallel-item::after {content: \"\";width: 100%;border-bottom: 1px solid gray;flex-grow: 1;}#sk-container-id-4 div.sk-label:hover label.sk-toggleable__label {background-color: #d4ebff;}#sk-container-id-4 div.sk-serial::before {content: \"\";position: absolute;border-left: 1px solid gray;box-sizing: border-box;top: 0;bottom: 0;left: 50%;z-index: 0;}#sk-container-id-4 div.sk-serial {display: flex;flex-direction: column;align-items: center;background-color: white;padding-right: 0.2em;padding-left: 0.2em;position: relative;}#sk-container-id-4 div.sk-item {position: relative;z-index: 1;}#sk-container-id-4 div.sk-parallel {display: flex;align-items: stretch;justify-content: center;background-color: white;position: relative;}#sk-container-id-4 div.sk-item::before, #sk-container-id-4 div.sk-parallel-item::before {content: \"\";position: absolute;border-left: 1px solid gray;box-sizing: border-box;top: 0;bottom: 0;left: 50%;z-index: -1;}#sk-container-id-4 div.sk-parallel-item {display: flex;flex-direction: column;z-index: 1;position: relative;background-color: white;}#sk-container-id-4 div.sk-parallel-item:first-child::after {align-self: flex-end;width: 50%;}#sk-container-id-4 div.sk-parallel-item:last-child::after {align-self: flex-start;width: 50%;}#sk-container-id-4 div.sk-parallel-item:only-child::after {width: 0;}#sk-container-id-4 div.sk-dashed-wrapped {border: 1px dashed gray;margin: 0 0.4em 0.5em 0.4em;box-sizing: border-box;padding-bottom: 0.4em;background-color: white;}#sk-container-id-4 div.sk-label label {font-family: monospace;font-weight: bold;display: inline-block;line-height: 1.2em;}#sk-container-id-4 div.sk-label-container {text-align: center;}#sk-container-id-4 div.sk-container {/* jupyter's `normalize.less` sets `[hidden] { display: none; }` but bootstrap.min.css set `[hidden] { display: none !important; }` so we also need the `!important` here to be able to override the default hidden behavior on the sphinx rendered scikit-learn.org. See: https://github.com/scikit-learn/scikit-learn/issues/21755 */display: inline-block !important;position: relative;}#sk-container-id-4 div.sk-text-repr-fallback {display: none;}</style><div id=\"sk-container-id-4\" class=\"sk-top-container\"><div class=\"sk-text-repr-fallback\"><pre>SVC(kernel=&#x27;linear&#x27;)</pre><b>In a Jupyter environment, please rerun this cell to show the HTML representation or trust the notebook. <br />On GitHub, the HTML representation is unable to render, please try loading this page with nbviewer.org.</b></div><div class=\"sk-container\" hidden><div class=\"sk-item\"><div class=\"sk-estimator sk-toggleable\"><input class=\"sk-toggleable__control sk-hidden--visually\" id=\"sk-estimator-id-6\" type=\"checkbox\" checked><label for=\"sk-estimator-id-6\" class=\"sk-toggleable__label sk-toggleable__label-arrow\">SVC</label><div class=\"sk-toggleable__content\"><pre>SVC(kernel=&#x27;linear&#x27;)</pre></div></div></div></div></div>"
      ],
      "text/plain": [
       "SVC(kernel='linear')"
      ]
     },
     "execution_count": 75,
     "metadata": {},
     "output_type": "execute_result"
    }
   ],
   "source": [
    "svc.fit(x_tr, y_tr)"
   ]
  },
  {
   "cell_type": "code",
   "execution_count": 76,
   "id": "72138476-341e-4e1c-bda0-50bbbb9f0a0c",
   "metadata": {},
   "outputs": [],
   "source": [
    "y_pr = svc.predict(x_te)"
   ]
  },
  {
   "cell_type": "code",
   "execution_count": 77,
   "id": "ab6b205e-b303-4325-8a03-155c4a7a6eb5",
   "metadata": {},
   "outputs": [],
   "source": [
    "f1_svc = f1_score(y_te,y_pred)\n",
    "pr_svc = precision_score(y_te,y_pred)\n",
    "rec_svc = recall_score(y_te,y_pred)"
   ]
  },
  {
   "cell_type": "code",
   "execution_count": 78,
   "id": "20aea6cb-b798-48e6-b779-94bbcca5962a",
   "metadata": {},
   "outputs": [
    {
     "data": {
      "text/plain": [
       "0.7418898528857035"
      ]
     },
     "execution_count": 78,
     "metadata": {},
     "output_type": "execute_result"
    }
   ],
   "source": [
    "a4 = accuracy_score(y_te, y_pr)\n",
    "a4"
   ]
  },
  {
   "cell_type": "markdown",
   "id": "ac31db26-5628-4e28-8bec-815b79cb13f2",
   "metadata": {},
   "source": [
    "#### An accuracy score of 74.19% indicates reasonable performance for your SVC model\n",
    "#### on data.indicating that it correctly predicts the outcome (booking status) for \n",
    "#### about 74.19% of the samples in the dataset."
   ]
  },
  {
   "cell_type": "markdown",
   "id": "7cf60b8b-df65-4bc6-a581-552b0d89f845",
   "metadata": {},
   "source": [
    "# Random Forest Classifier"
   ]
  },
  {
   "cell_type": "markdown",
   "id": "fbf5da1d-3891-47c7-837e-09ed38ee74d0",
   "metadata": {},
   "source": [
    "#### Random Forest offers high accuracy by combining multiple decision trees, handles non-linear\n",
    "#### relationships well, and provides robustness to overfitting, making it a versatile and effective\n",
    "#### algorithm for various classification and regression tasks"
   ]
  },
  {
   "cell_type": "code",
   "execution_count": 79,
   "id": "4fb34f11-2697-4245-b686-4bbb0e5a64d6",
   "metadata": {},
   "outputs": [],
   "source": [
    "rfc = RandomForestClassifier(n_estimators=100, n_jobs=-1, criterion=\"entropy\")"
   ]
  },
  {
   "cell_type": "code",
   "execution_count": 80,
   "id": "436a6a8e-c780-434f-9938-555027f90da0",
   "metadata": {},
   "outputs": [
    {
     "data": {
      "text/html": [
       "<style>#sk-container-id-5 {color: black;}#sk-container-id-5 pre{padding: 0;}#sk-container-id-5 div.sk-toggleable {background-color: white;}#sk-container-id-5 label.sk-toggleable__label {cursor: pointer;display: block;width: 100%;margin-bottom: 0;padding: 0.3em;box-sizing: border-box;text-align: center;}#sk-container-id-5 label.sk-toggleable__label-arrow:before {content: \"▸\";float: left;margin-right: 0.25em;color: #696969;}#sk-container-id-5 label.sk-toggleable__label-arrow:hover:before {color: black;}#sk-container-id-5 div.sk-estimator:hover label.sk-toggleable__label-arrow:before {color: black;}#sk-container-id-5 div.sk-toggleable__content {max-height: 0;max-width: 0;overflow: hidden;text-align: left;background-color: #f0f8ff;}#sk-container-id-5 div.sk-toggleable__content pre {margin: 0.2em;color: black;border-radius: 0.25em;background-color: #f0f8ff;}#sk-container-id-5 input.sk-toggleable__control:checked~div.sk-toggleable__content {max-height: 200px;max-width: 100%;overflow: auto;}#sk-container-id-5 input.sk-toggleable__control:checked~label.sk-toggleable__label-arrow:before {content: \"▾\";}#sk-container-id-5 div.sk-estimator input.sk-toggleable__control:checked~label.sk-toggleable__label {background-color: #d4ebff;}#sk-container-id-5 div.sk-label input.sk-toggleable__control:checked~label.sk-toggleable__label {background-color: #d4ebff;}#sk-container-id-5 input.sk-hidden--visually {border: 0;clip: rect(1px 1px 1px 1px);clip: rect(1px, 1px, 1px, 1px);height: 1px;margin: -1px;overflow: hidden;padding: 0;position: absolute;width: 1px;}#sk-container-id-5 div.sk-estimator {font-family: monospace;background-color: #f0f8ff;border: 1px dotted black;border-radius: 0.25em;box-sizing: border-box;margin-bottom: 0.5em;}#sk-container-id-5 div.sk-estimator:hover {background-color: #d4ebff;}#sk-container-id-5 div.sk-parallel-item::after {content: \"\";width: 100%;border-bottom: 1px solid gray;flex-grow: 1;}#sk-container-id-5 div.sk-label:hover label.sk-toggleable__label {background-color: #d4ebff;}#sk-container-id-5 div.sk-serial::before {content: \"\";position: absolute;border-left: 1px solid gray;box-sizing: border-box;top: 0;bottom: 0;left: 50%;z-index: 0;}#sk-container-id-5 div.sk-serial {display: flex;flex-direction: column;align-items: center;background-color: white;padding-right: 0.2em;padding-left: 0.2em;position: relative;}#sk-container-id-5 div.sk-item {position: relative;z-index: 1;}#sk-container-id-5 div.sk-parallel {display: flex;align-items: stretch;justify-content: center;background-color: white;position: relative;}#sk-container-id-5 div.sk-item::before, #sk-container-id-5 div.sk-parallel-item::before {content: \"\";position: absolute;border-left: 1px solid gray;box-sizing: border-box;top: 0;bottom: 0;left: 50%;z-index: -1;}#sk-container-id-5 div.sk-parallel-item {display: flex;flex-direction: column;z-index: 1;position: relative;background-color: white;}#sk-container-id-5 div.sk-parallel-item:first-child::after {align-self: flex-end;width: 50%;}#sk-container-id-5 div.sk-parallel-item:last-child::after {align-self: flex-start;width: 50%;}#sk-container-id-5 div.sk-parallel-item:only-child::after {width: 0;}#sk-container-id-5 div.sk-dashed-wrapped {border: 1px dashed gray;margin: 0 0.4em 0.5em 0.4em;box-sizing: border-box;padding-bottom: 0.4em;background-color: white;}#sk-container-id-5 div.sk-label label {font-family: monospace;font-weight: bold;display: inline-block;line-height: 1.2em;}#sk-container-id-5 div.sk-label-container {text-align: center;}#sk-container-id-5 div.sk-container {/* jupyter's `normalize.less` sets `[hidden] { display: none; }` but bootstrap.min.css set `[hidden] { display: none !important; }` so we also need the `!important` here to be able to override the default hidden behavior on the sphinx rendered scikit-learn.org. See: https://github.com/scikit-learn/scikit-learn/issues/21755 */display: inline-block !important;position: relative;}#sk-container-id-5 div.sk-text-repr-fallback {display: none;}</style><div id=\"sk-container-id-5\" class=\"sk-top-container\"><div class=\"sk-text-repr-fallback\"><pre>RandomForestClassifier(criterion=&#x27;entropy&#x27;, n_jobs=-1)</pre><b>In a Jupyter environment, please rerun this cell to show the HTML representation or trust the notebook. <br />On GitHub, the HTML representation is unable to render, please try loading this page with nbviewer.org.</b></div><div class=\"sk-container\" hidden><div class=\"sk-item\"><div class=\"sk-estimator sk-toggleable\"><input class=\"sk-toggleable__control sk-hidden--visually\" id=\"sk-estimator-id-7\" type=\"checkbox\" checked><label for=\"sk-estimator-id-7\" class=\"sk-toggleable__label sk-toggleable__label-arrow\">RandomForestClassifier</label><div class=\"sk-toggleable__content\"><pre>RandomForestClassifier(criterion=&#x27;entropy&#x27;, n_jobs=-1)</pre></div></div></div></div></div>"
      ],
      "text/plain": [
       "RandomForestClassifier(criterion='entropy', n_jobs=-1)"
      ]
     },
     "execution_count": 80,
     "metadata": {},
     "output_type": "execute_result"
    }
   ],
   "source": [
    "rfc.fit(x_tr, y_tr)"
   ]
  },
  {
   "cell_type": "code",
   "execution_count": 81,
   "id": "8b4d199f-018e-46a7-bdaf-c08973be7969",
   "metadata": {},
   "outputs": [
    {
     "data": {
      "text/plain": [
       "0.9846004607736146"
      ]
     },
     "execution_count": 81,
     "metadata": {},
     "output_type": "execute_result"
    }
   ],
   "source": [
    "rfc.score(x_tr, y_tr)"
   ]
  },
  {
   "cell_type": "code",
   "execution_count": 82,
   "id": "3a62108c-80ce-4f28-b258-a1f7dafef890",
   "metadata": {},
   "outputs": [],
   "source": [
    "y_pr = rfc.predict(x_te)"
   ]
  },
  {
   "cell_type": "code",
   "execution_count": 83,
   "id": "777b3126-9568-4383-95b5-175c015374ff",
   "metadata": {},
   "outputs": [],
   "source": [
    "f1_rfc = f1_score(y_te,y_pred)\n",
    "pr_rfc = precision_score(y_te,y_pred)\n",
    "rec_rfc = recall_score(y_te,y_pred)"
   ]
  },
  {
   "cell_type": "code",
   "execution_count": 84,
   "id": "3a250b0f-8e58-41f2-b500-f009f19a5bfb",
   "metadata": {},
   "outputs": [
    {
     "data": {
      "text/plain": [
       "0.8563749528479819"
      ]
     },
     "execution_count": 84,
     "metadata": {},
     "output_type": "execute_result"
    }
   ],
   "source": [
    "a5 = accuracy_score(y_te, y_pr)\n",
    "a5"
   ]
  },
  {
   "cell_type": "markdown",
   "id": "8314319b-eb8b-4fab-abbd-4110ecaec19e",
   "metadata": {},
   "source": [
    "#### An accuracy of 0.8582610335722369 suggests that approximately 85.83% of the predictions made by\n",
    "#### the Random Forest model are correct, indicating strong predictive performance for the given task or dataset"
   ]
  },
  {
   "cell_type": "code",
   "execution_count": 85,
   "id": "b27060c4-ecf2-4f15-b66d-540336b436e3",
   "metadata": {},
   "outputs": [
    {
     "data": {
      "text/plain": [
       "array([[2708,  896],\n",
       "       [ 627, 6373]], dtype=int64)"
      ]
     },
     "execution_count": 85,
     "metadata": {},
     "output_type": "execute_result"
    }
   ],
   "source": [
    "confusion_matrix = confusion_matrix(y_te, y_pr)\n",
    "confusion_matrix"
   ]
  },
  {
   "cell_type": "code",
   "execution_count": 86,
   "id": "33400250-a658-42d4-a8ba-9aef37e23774",
   "metadata": {},
   "outputs": [
    {
     "data": {
      "text/plain": [
       "<Axes: >"
      ]
     },
     "execution_count": 86,
     "metadata": {},
     "output_type": "execute_result"
    },
    {
     "data": {
      "image/png": "[encoded data removed]",
      "text/plain": [
       "<Figure size 640x480 with 2 Axes>"
      ]
     },
     "metadata": {},
     "output_type": "display_data"
    }
   ],
   "source": [
    "sns.heatmap(confusion_matrix, annot=True)"
   ]
  },
  {
   "cell_type": "markdown",
   "id": "8de2f634-a955-4a3a-a1f9-7f806e5c056b",
   "metadata": {},
   "source": [
    "#### In confusion matrix visualizes the following factors -"
   ]
  },
  {
   "cell_type": "markdown",
   "id": "a84127f1-609c-46b0-9f54-ea3d3ac921e8",
   "metadata": {},
   "source": [
    "#### 6394 instances were correctly classified as positive.\n",
    "#### 897 instances were incorrectly classified as positive when they were actually negative.\n",
    "#### 606 instances were incorrectly classified as negative when they were actually positive.\n",
    "#### 2707 instances were correctly classified as negative"
   ]
  },
  {
   "cell_type": "code",
   "execution_count": 87,
   "id": "f384954d-ad63-4d12-a0b7-e53b69e3872b",
   "metadata": {},
   "outputs": [
    {
     "name": "stdout",
     "output_type": "stream",
     "text": [
      "              precision    recall  f1-score   support\n",
      "\n",
      "           0       0.81      0.75      0.78      3604\n",
      "           1       0.88      0.91      0.89      7000\n",
      "\n",
      "    accuracy                           0.86     10604\n",
      "   macro avg       0.84      0.83      0.84     10604\n",
      "weighted avg       0.85      0.86      0.85     10604\n",
      "\n"
     ]
    }
   ],
   "source": [
    "print(classification_report(y_te, y_pr))"
   ]
  },
  {
   "cell_type": "code",
   "execution_count": 88,
   "id": "84c04bbe-7c39-4d9d-9a0c-e77d7e4775c8",
   "metadata": {},
   "outputs": [
    {
     "data": {
      "text/html": [
       "<div>\n",
       "<style scoped>\n",
       "    .dataframe tbody tr th:only-of-type {\n",
       "        vertical-align: middle;\n",
       "    }\n",
       "\n",
       "    .dataframe tbody tr th {\n",
       "        vertical-align: top;\n",
       "    }\n",
       "\n",
       "    .dataframe thead th {\n",
       "        text-align: right;\n",
       "    }\n",
       "</style>\n",
       "<table border=\"1\" class=\"dataframe\">\n",
       "  <thead>\n",
       "    <tr style=\"text-align: right;\">\n",
       "      <th></th>\n",
       "      <th>Model</th>\n",
       "      <th>Accuracy Score</th>\n",
       "      <th>F1 Score</th>\n",
       "      <th>Precision</th>\n",
       "      <th>Recall</th>\n",
       "    </tr>\n",
       "  </thead>\n",
       "  <tbody>\n",
       "    <tr>\n",
       "      <th>0</th>\n",
       "      <td>KMeans</td>\n",
       "      <td>0.394285</td>\n",
       "      <td>0.399102</td>\n",
       "      <td>0.578205</td>\n",
       "      <td>0.304714</td>\n",
       "    </tr>\n",
       "  </tbody>\n",
       "</table>\n",
       "</div>"
      ],
      "text/plain": [
       "    Model  Accuracy Score  F1 Score  Precision    Recall\n",
       "0  KMeans        0.394285  0.399102   0.578205  0.304714"
      ]
     },
     "execution_count": 88,
     "metadata": {},
     "output_type": "execute_result"
    }
   ],
   "source": [
    "r1_data = [[\"KMeans\",a1,f1_km,pr_km,rec_km]]\n",
    "r1_columns = [\"Model\",\"Accuracy Score\",\"F1 Score\",\"Precision\",\"Recall\"]\n",
    "r1 = pd.DataFrame(r1_data,columns=r1_columns)\n",
    "r1"
   ]
  },
  {
   "cell_type": "markdown",
   "id": "d7aaa57c-1d06-4fd0-9b1b-9086e6d11f07",
   "metadata": {},
   "source": [
    "#### The provided evaluation results are for a KMeans model. It achieved an accuracy score of 0.60298."
   ]
  },
  {
   "cell_type": "code",
   "execution_count": 89,
   "id": "32190896-de0e-4d77-9ddc-713c75e5f067",
   "metadata": {},
   "outputs": [
    {
     "data": {
      "text/html": [
       "<div>\n",
       "<style scoped>\n",
       "    .dataframe tbody tr th:only-of-type {\n",
       "        vertical-align: middle;\n",
       "    }\n",
       "\n",
       "    .dataframe tbody tr th {\n",
       "        vertical-align: top;\n",
       "    }\n",
       "\n",
       "    .dataframe thead th {\n",
       "        text-align: right;\n",
       "    }\n",
       "</style>\n",
       "<table border=\"1\" class=\"dataframe\">\n",
       "  <thead>\n",
       "    <tr style=\"text-align: right;\">\n",
       "      <th></th>\n",
       "      <th>Model</th>\n",
       "      <th>Accuracy Score</th>\n",
       "      <th>F1 Score</th>\n",
       "      <th>Precision</th>\n",
       "      <th>Recall</th>\n",
       "    </tr>\n",
       "  </thead>\n",
       "  <tbody>\n",
       "    <tr>\n",
       "      <th>0</th>\n",
       "      <td>KNeighborsClassifier</td>\n",
       "      <td>0.892588</td>\n",
       "      <td>0.919806</td>\n",
       "      <td>0.906844</td>\n",
       "      <td>0.933143</td>\n",
       "    </tr>\n",
       "  </tbody>\n",
       "</table>\n",
       "</div>"
      ],
      "text/plain": [
       "                  Model  Accuracy Score  F1 Score  Precision    Recall\n",
       "0  KNeighborsClassifier        0.892588  0.919806   0.906844  0.933143"
      ]
     },
     "execution_count": 89,
     "metadata": {},
     "output_type": "execute_result"
    }
   ],
   "source": [
    "r2_data = [[\"KNeighborsClassifier\",a2,f1_knc,pr_knc,rec_knc]]\n",
    "r2_columns = [\"Model\",\"Accuracy Score\",\"F1 Score\",\"Precision\",\"Recall\"]\n",
    "r2 = pd.DataFrame(r2_data,columns=r2_columns)\n",
    "r2"
   ]
  },
  {
   "cell_type": "markdown",
   "id": "4fad9309-4626-4dd6-9d5e-407934285e9d",
   "metadata": {},
   "source": [
    "#### The evaluation results pertain to an AdaBoostClassifier model. It achieved an accuracy score of 0.74189."
   ]
  },
  {
   "cell_type": "code",
   "execution_count": 90,
   "id": "859038d8-eeaf-4e65-98be-acd8d87da20a",
   "metadata": {},
   "outputs": [
    {
     "data": {
      "text/html": [
       "<div>\n",
       "<style scoped>\n",
       "    .dataframe tbody tr th:only-of-type {\n",
       "        vertical-align: middle;\n",
       "    }\n",
       "\n",
       "    .dataframe tbody tr th {\n",
       "        vertical-align: top;\n",
       "    }\n",
       "\n",
       "    .dataframe thead th {\n",
       "        text-align: right;\n",
       "    }\n",
       "</style>\n",
       "<table border=\"1\" class=\"dataframe\">\n",
       "  <thead>\n",
       "    <tr style=\"text-align: right;\">\n",
       "      <th></th>\n",
       "      <th>Model</th>\n",
       "      <th>Accuracy Score</th>\n",
       "      <th>F1 Score</th>\n",
       "      <th>Precision</th>\n",
       "      <th>Recall</th>\n",
       "    </tr>\n",
       "  </thead>\n",
       "  <tbody>\n",
       "    <tr>\n",
       "      <th>0</th>\n",
       "      <td>AdaBoostClassifier</td>\n",
       "      <td>0.826292</td>\n",
       "      <td>0.919806</td>\n",
       "      <td>0.906844</td>\n",
       "      <td>0.933143</td>\n",
       "    </tr>\n",
       "  </tbody>\n",
       "</table>\n",
       "</div>"
      ],
      "text/plain": [
       "                Model  Accuracy Score  F1 Score  Precision    Recall\n",
       "0  AdaBoostClassifier        0.826292  0.919806   0.906844  0.933143"
      ]
     },
     "execution_count": 90,
     "metadata": {},
     "output_type": "execute_result"
    }
   ],
   "source": [
    "r3_data = [[\"AdaBoostClassifier\",a3,f1_abc,pr_abc,rec_abc]]\n",
    "r3_columns = [\"Model\",\"Accuracy Score\",\"F1 Score\",\"Precision\",\"Recall\"]\n",
    "r3 = pd.DataFrame(r3_data,columns=r3_columns)\n",
    "r3"
   ]
  },
  {
   "cell_type": "markdown",
   "id": "cc745187-834a-4e6f-b84e-8d1ebe228865",
   "metadata": {},
   "source": [
    "#### The evaluation results correspond to an AdaBoostClassifier model. It achieved an accuracy score of 0.74189."
   ]
  },
  {
   "cell_type": "code",
   "execution_count": 91,
   "id": "b6926308-bba7-434b-b219-04994c2aeb4e",
   "metadata": {},
   "outputs": [
    {
     "data": {
      "text/html": [
       "<div>\n",
       "<style scoped>\n",
       "    .dataframe tbody tr th:only-of-type {\n",
       "        vertical-align: middle;\n",
       "    }\n",
       "\n",
       "    .dataframe tbody tr th {\n",
       "        vertical-align: top;\n",
       "    }\n",
       "\n",
       "    .dataframe thead th {\n",
       "        text-align: right;\n",
       "    }\n",
       "</style>\n",
       "<table border=\"1\" class=\"dataframe\">\n",
       "  <thead>\n",
       "    <tr style=\"text-align: right;\">\n",
       "      <th></th>\n",
       "      <th>Model</th>\n",
       "      <th>Accuracy Score</th>\n",
       "      <th>F1 Score</th>\n",
       "      <th>Precision</th>\n",
       "      <th>Recall</th>\n",
       "    </tr>\n",
       "  </thead>\n",
       "  <tbody>\n",
       "    <tr>\n",
       "      <th>0</th>\n",
       "      <td>SupportVectorMachine</td>\n",
       "      <td>0.74189</td>\n",
       "      <td>0.919806</td>\n",
       "      <td>0.906844</td>\n",
       "      <td>0.933143</td>\n",
       "    </tr>\n",
       "  </tbody>\n",
       "</table>\n",
       "</div>"
      ],
      "text/plain": [
       "                  Model  Accuracy Score  F1 Score  Precision    Recall\n",
       "0  SupportVectorMachine         0.74189  0.919806   0.906844  0.933143"
      ]
     },
     "execution_count": 91,
     "metadata": {},
     "output_type": "execute_result"
    }
   ],
   "source": [
    "r4_data = [[\"SupportVectorMachine\",a4,f1_svc,pr_svc,rec_svc]]\n",
    "r4_columns = [\"Model\",\"Accuracy Score\",\"F1 Score\",\"Precision\",\"Recall\"]\n",
    "r4 = pd.DataFrame(r4_data,columns=r4_columns)\n",
    "r4"
   ]
  },
  {
   "cell_type": "markdown",
   "id": "2765188b-8bf5-42f1-b8fd-e0ed71180ca5",
   "metadata": {},
   "source": [
    "#### The evaluation results shows to a Support Vector Machine (SVM) model. It achieved an \n",
    "#### accuracy score of 0.74189."
   ]
  },
  {
   "cell_type": "code",
   "execution_count": 92,
   "id": "dbbefad2-3baf-4564-a13e-f6df966095c0",
   "metadata": {},
   "outputs": [
    {
     "data": {
      "text/html": [
       "<div>\n",
       "<style scoped>\n",
       "    .dataframe tbody tr th:only-of-type {\n",
       "        vertical-align: middle;\n",
       "    }\n",
       "\n",
       "    .dataframe tbody tr th {\n",
       "        vertical-align: top;\n",
       "    }\n",
       "\n",
       "    .dataframe thead th {\n",
       "        text-align: right;\n",
       "    }\n",
       "</style>\n",
       "<table border=\"1\" class=\"dataframe\">\n",
       "  <thead>\n",
       "    <tr style=\"text-align: right;\">\n",
       "      <th></th>\n",
       "      <th>Model</th>\n",
       "      <th>Accuracy Score</th>\n",
       "      <th>F1 Score</th>\n",
       "      <th>Precision</th>\n",
       "      <th>Recall</th>\n",
       "    </tr>\n",
       "  </thead>\n",
       "  <tbody>\n",
       "    <tr>\n",
       "      <th>0</th>\n",
       "      <td>RandomForestClassifier</td>\n",
       "      <td>0.856375</td>\n",
       "      <td>0.919806</td>\n",
       "      <td>0.906844</td>\n",
       "      <td>0.933143</td>\n",
       "    </tr>\n",
       "  </tbody>\n",
       "</table>\n",
       "</div>"
      ],
      "text/plain": [
       "                    Model  Accuracy Score  F1 Score  Precision    Recall\n",
       "0  RandomForestClassifier        0.856375  0.919806   0.906844  0.933143"
      ]
     },
     "execution_count": 92,
     "metadata": {},
     "output_type": "execute_result"
    }
   ],
   "source": [
    "r5_data = [[\"RandomForestClassifier\",a5,f1_rfc,pr_rfc,rec_rfc]]\n",
    "r5_columns = [\"Model\",\"Accuracy Score\",\"F1 Score\",\"Precision\",\"Recall\"]\n",
    "r5 = pd.DataFrame(r5_data,columns=r5_columns)\n",
    "r5"
   ]
  },
  {
   "cell_type": "markdown",
   "id": "da5026bd-1239-4dc5-a884-d014b4d1296d",
   "metadata": {},
   "source": [
    "#### The evaluation results showcase the performance metrics of a RandomForestClassifier model.\n",
    "#### It achieved an accuracy score of 0.858921. "
   ]
  },
  {
   "cell_type": "code",
   "execution_count": 93,
   "id": "df5aeab0-3789-42e6-b52a-3f93ce315b47",
   "metadata": {},
   "outputs": [
    {
     "data": {
      "text/html": [
       "<div>\n",
       "<style scoped>\n",
       "    .dataframe tbody tr th:only-of-type {\n",
       "        vertical-align: middle;\n",
       "    }\n",
       "\n",
       "    .dataframe tbody tr th {\n",
       "        vertical-align: top;\n",
       "    }\n",
       "\n",
       "    .dataframe thead th {\n",
       "        text-align: right;\n",
       "    }\n",
       "</style>\n",
       "<table border=\"1\" class=\"dataframe\">\n",
       "  <thead>\n",
       "    <tr style=\"text-align: right;\">\n",
       "      <th></th>\n",
       "      <th>Model</th>\n",
       "      <th>Accuracy Score</th>\n",
       "      <th>F1 Score</th>\n",
       "      <th>Precision</th>\n",
       "      <th>Recall</th>\n",
       "    </tr>\n",
       "  </thead>\n",
       "  <tbody>\n",
       "    <tr>\n",
       "      <th>0</th>\n",
       "      <td>KNeighborsClassifier</td>\n",
       "      <td>0.892588</td>\n",
       "      <td>0.919806</td>\n",
       "      <td>0.906844</td>\n",
       "      <td>0.933143</td>\n",
       "    </tr>\n",
       "    <tr>\n",
       "      <th>0</th>\n",
       "      <td>RandomForestClassifier</td>\n",
       "      <td>0.856375</td>\n",
       "      <td>0.919806</td>\n",
       "      <td>0.906844</td>\n",
       "      <td>0.933143</td>\n",
       "    </tr>\n",
       "    <tr>\n",
       "      <th>0</th>\n",
       "      <td>AdaBoostClassifier</td>\n",
       "      <td>0.826292</td>\n",
       "      <td>0.919806</td>\n",
       "      <td>0.906844</td>\n",
       "      <td>0.933143</td>\n",
       "    </tr>\n",
       "    <tr>\n",
       "      <th>0</th>\n",
       "      <td>SupportVectorMachine</td>\n",
       "      <td>0.741890</td>\n",
       "      <td>0.919806</td>\n",
       "      <td>0.906844</td>\n",
       "      <td>0.933143</td>\n",
       "    </tr>\n",
       "    <tr>\n",
       "      <th>0</th>\n",
       "      <td>KMeans</td>\n",
       "      <td>0.394285</td>\n",
       "      <td>0.399102</td>\n",
       "      <td>0.578205</td>\n",
       "      <td>0.304714</td>\n",
       "    </tr>\n",
       "  </tbody>\n",
       "</table>\n",
       "</div>"
      ],
      "text/plain": [
       "                    Model  Accuracy Score  F1 Score  Precision    Recall\n",
       "0    KNeighborsClassifier        0.892588  0.919806   0.906844  0.933143\n",
       "0  RandomForestClassifier        0.856375  0.919806   0.906844  0.933143\n",
       "0      AdaBoostClassifier        0.826292  0.919806   0.906844  0.933143\n",
       "0    SupportVectorMachine        0.741890  0.919806   0.906844  0.933143\n",
       "0                  KMeans        0.394285  0.399102   0.578205  0.304714"
      ]
     },
     "execution_count": 93,
     "metadata": {},
     "output_type": "execute_result"
    }
   ],
   "source": [
    "results = pd.concat([r5,r4,r3,r2,r1])\n",
    "results_sorted = results.sort_values(by=\"Accuracy Score\", ascending=False)\n",
    "results_sorted"
   ]
  },
  {
   "cell_type": "markdown",
   "id": "8c243178-90c5-4ae5-9280-48ff05b0854b",
   "metadata": {},
   "source": [
    "# RESULT"
   ]
  },
  {
   "cell_type": "markdown",
   "id": "050aa847-9192-43ad-b280-2e348b65bfdd",
   "metadata": {},
   "source": [
    "### The evaluation results indicate that the RandomForestClassifier achieved the highest accuracy score \n",
    "### of 0.858921, along with a balanced F1 Score of 0.821310, Precision of 0.756282, and Recall of 0.898571. \n",
    "### SupportVectorMachine and AdaBoostClassifier performed similarly with accuracy scores of 0.741890 and \n",
    "### identical F1, Precision, and Recall scores. However, the KNeighborsClassifier exhibited lower accuracy\n",
    "### but higher Recall (1.000000). KMeans, although having the lowest accuracy."
   ]
  },
  {
   "cell_type": "code",
   "execution_count": null,
   "id": "84b7a960-204e-46cd-bc64-ea391d04c1ff",
   "metadata": {},
   "outputs": [],
   "source": []
  }
 ],
 "metadata": {
  "kernelspec": {
   "display_name": "Python 3 (ipykernel)",
   "language": "python",
   "name": "python3"
  },
  "language_info": {
   "codemirror_mode": {
    "name": "ipython",
    "version": 3
   },
   "file_extension": ".py",
   "mimetype": "text/x-python",
   "name": "python",
   "nbconvert_exporter": "python",
   "pygments_lexer": "ipython3",
   "version": "3.12.0"
  }
 },
 "nbformat": 4,
 "nbformat_minor": 5
}
