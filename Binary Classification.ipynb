{
 "cells": [
  {
   "cell_type": "code",
   "execution_count": 2,
   "id": "27c34303-1a31-4e2c-b503-e7b63b9e2021",
   "metadata": {},
   "outputs": [],
   "source": [
    "from sklearn.datasets import make_classification\n",
    "from sklearn.metrics import accuracy_score\n",
    "from sklearn.linear_model import LogisticRegression\n",
    "import numpy as np\n",
    "import matplotlib.pyplot as plt\n",
    "import pandas as pd\n",
    "import warnings\n",
    "warnings.filterwarnings(\"ignore\")\n"
   ]
  },
  {
   "cell_type": "code",
   "execution_count": 3,
   "id": "0071edda-76a6-46c3-b686-2728e4ec4cd1",
   "metadata": {},
   "outputs": [],
   "source": [
    "data = make_classification(n_samples=100,n_features=4,n_classes=2,weights=[0.5,0.5])"
   ]
  },
  {
   "cell_type": "code",
   "execution_count": 4,
   "id": "cdcbb8bc-df6d-4f0f-b845-1c17af73dae1",
   "metadata": {},
   "outputs": [
    {
     "data": {
      "text/plain": [
       "(array([[ 9.93109185e-01,  1.23237174e+00, -9.24808101e-01,\n",
       "          1.01939681e+00],\n",
       "        [-2.29613993e+00, -3.26773979e+00,  2.56644737e+00,\n",
       "         -2.62451414e+00],\n",
       "        [-7.78326280e-01, -6.16775559e-01,  3.67539738e-01,\n",
       "         -5.75680396e-01],\n",
       "        [ 7.85695864e-01,  5.08258650e-01, -2.53979852e-01,\n",
       "          5.07993558e-01],\n",
       "        [ 1.05879354e+00,  1.47979154e+00, -1.15577828e+00,\n",
       "          1.19292904e+00],\n",
       "        [-1.23893399e+00,  7.61061928e-01, -1.19868490e+00,\n",
       "          1.98281345e-01],\n",
       "        [ 8.55704175e-01, -5.83843562e-01,  8.87465416e-01,\n",
       "         -1.74167512e-01],\n",
       "        [-1.35794324e+00,  1.52383938e+00, -2.01968080e+00,\n",
       "          6.58411739e-01],\n",
       "        [-1.64352848e+00,  1.81542344e+00, -2.41486604e+00,\n",
       "          7.78403468e-01],\n",
       "        [-4.78182470e-01, -6.06465275e-01,  4.58680097e-01,\n",
       "         -4.99203959e-01],\n",
       "        [-1.33572895e+00,  7.54458696e-01, -1.22472210e+00,\n",
       "          1.71521454e-01],\n",
       "        [-5.89082485e-01,  7.79889553e-01, -9.97776292e-01,\n",
       "          3.61627483e-01],\n",
       "        [ 1.31728920e+00, -7.66786305e-01,  1.23109132e+00,\n",
       "         -1.83698980e-01],\n",
       "        [ 6.52663216e-01, -2.05279276e-01,  4.31226235e-01,\n",
       "          2.06717572e-02],\n",
       "        [-1.03600670e+00,  5.60967719e-01, -9.25141642e-01,\n",
       "          1.17557313e-01],\n",
       "        [ 9.30074714e-01,  8.79096364e-01, -5.84600918e-01,\n",
       "          7.78780938e-01],\n",
       "        [ 8.11093705e-01,  3.68425625e-01, -1.02260896e-01,\n",
       "          4.24475810e-01],\n",
       "        [ 9.12197076e-01,  7.72696141e-01, -4.81761462e-01,\n",
       "          7.06569534e-01],\n",
       "        [-1.76185589e+00,  1.35954929e+00, -1.98838682e+00,\n",
       "          4.59296032e-01],\n",
       "        [-1.68369773e+00,  3.36375132e-01, -9.14725547e-01,\n",
       "         -1.76884124e-01],\n",
       "        [ 1.05336858e+00,  1.26584666e+00, -9.38651777e-01,\n",
       "          1.05483610e+00],\n",
       "        [-1.48552898e+00,  1.49404797e+00, -2.03241808e+00,\n",
       "          6.09652680e-01],\n",
       "        [ 7.33930569e-01,  7.11128626e-01, -4.79148389e-01,\n",
       "          6.25687870e-01],\n",
       "        [-2.47194286e-01,  4.20008676e-01, -5.13615665e-01,\n",
       "          2.11065088e-01],\n",
       "        [-1.17366453e+00, -2.31047741e+00,  1.96703428e+00,\n",
       "         -1.75094500e+00],\n",
       "        [-2.32623456e+00, -3.62423575e+00,  2.92111114e+00,\n",
       "         -2.85952038e+00],\n",
       "        [-5.11532800e-01, -6.61607457e-01,  5.03816531e-01,\n",
       "         -5.42235452e-01],\n",
       "        [-2.54784497e+00, -3.07373787e+00,  2.28261282e+00,\n",
       "         -2.55904338e+00],\n",
       "        [ 1.15654691e+00,  2.04002870e+00, -1.69603986e+00,\n",
       "          1.57399227e+00],\n",
       "        [-1.37446977e+00, -2.11987578e+00,  1.70392530e+00,\n",
       "         -1.67579793e+00],\n",
       "        [ 9.67788859e-01,  5.29410251e-01, -2.13932295e-01,\n",
       "          5.63917882e-01],\n",
       "        [ 1.02124719e+00,  1.41074477e+00, -1.09783268e+00,\n",
       "          1.14002782e+00],\n",
       "        [-1.83506360e+00, -2.84928758e+00,  2.29439580e+00,\n",
       "         -2.24953797e+00],\n",
       "        [-1.76581598e+00,  6.37958612e-01, -1.25120761e+00,\n",
       "         -3.12402028e-03],\n",
       "        [-1.12312623e-01,  6.29836108e-01, -6.82666528e-01,\n",
       "          3.76666063e-01],\n",
       "        [-1.86339758e+00,  8.81279038e-01, -1.53329881e+00,\n",
       "          1.29773240e-01],\n",
       "        [ 1.02287756e+00,  1.49518745e+00, -1.18370420e+00,\n",
       "          1.19441328e+00],\n",
       "        [ 5.17453981e-01, -6.63699089e-01,  8.54591070e-01,\n",
       "         -3.03994365e-01],\n",
       "        [-1.41390390e+00, -2.05704460e+00,  1.62625917e+00,\n",
       "         -1.64479527e+00],\n",
       "        [-8.68987440e-01, -3.71055165e-01,  8.53369962e-02,\n",
       "         -4.39636937e-01],\n",
       "        [-1.12400106e+00, -1.06643104e+00,  7.10626197e-01,\n",
       "         -9.43743883e-01],\n",
       "        [-8.67707055e-01,  8.11236877e-01, -1.12426065e+00,\n",
       "          3.16803761e-01],\n",
       "        [ 1.09065487e+00,  1.53583655e+00, -1.20234321e+00,\n",
       "          1.23619126e+00],\n",
       "        [ 7.33377755e-01,  1.68017560e-01,  7.65180706e-02,\n",
       "          2.78208935e-01],\n",
       "        [-7.02964033e-01, -2.65334896e-02, -2.11017142e-01,\n",
       "         -1.80640653e-01],\n",
       "        [-3.79491038e-01,  5.56510478e-03, -1.34272075e-01,\n",
       "         -8.47976298e-02],\n",
       "        [-8.89291578e-01,  2.62374601e-01, -5.69833859e-01,\n",
       "         -3.92502078e-02],\n",
       "        [-9.83839234e-01, -1.48569097e+00,  1.18721159e+00,\n",
       "         -1.17925046e+00],\n",
       "        [ 8.79040738e-01, -1.20037780e-01,  4.20684358e-01,\n",
       "          1.27895949e-01],\n",
       "        [ 8.24604659e-01,  5.62232308e-01, -2.96037067e-01,\n",
       "          5.51571891e-01],\n",
       "        [-8.81902354e-01, -3.99752047e-01,  1.10331439e-01,\n",
       "         -4.60997192e-01],\n",
       "        [ 1.99210833e+00,  2.66481740e-01,  4.02217642e-01,\n",
       "          6.34252353e-01],\n",
       "        [ 9.14286310e-01,  7.67057000e-01, -4.75282153e-01,\n",
       "          7.03449421e-01],\n",
       "        [-7.88082664e-01,  9.34342745e-01, -1.22327712e+00,\n",
       "          4.14075854e-01],\n",
       "        [ 1.36390199e+00, -5.75046224e-01,  1.05064557e+00,\n",
       "         -5.02175135e-02],\n",
       "        [ 9.09079524e-01,  1.03815530e+00, -7.54505197e-01,\n",
       "          8.75619811e-01],\n",
       "        [-1.52722081e+00, -4.09437292e-01, -9.83981919e-02,\n",
       "         -6.17440832e-01],\n",
       "        [ 1.09886561e+00,  1.65270615e+00, -1.31917295e+00,\n",
       "          1.31284768e+00],\n",
       "        [ 1.28981766e+00,  2.48037463e+00, -2.10156354e+00,\n",
       "          1.88664778e+00],\n",
       "        [-1.34017890e+00, -2.01534642e+00,  1.60856162e+00,\n",
       "         -1.60096156e+00],\n",
       "        [ 2.78872745e-01, -3.20786368e+00,  3.37761353e+00,\n",
       "         -1.98668025e+00],\n",
       "        [ 7.68799930e-01,  7.97144319e-01, -5.55368033e-01,\n",
       "          6.88818395e-01],\n",
       "        [-1.24325762e+00, -1.11856189e+00,  7.23574530e-01,\n",
       "         -1.00485100e+00],\n",
       "        [ 9.39245055e-01, -1.25587322e+00,  1.60356722e+00,\n",
       "         -5.84517656e-01],\n",
       "        [ 4.00283855e-01, -1.03478288e+00,  1.19468265e+00,\n",
       "         -5.68604121e-01],\n",
       "        [-1.94578107e+00, -3.36829339e+00,  2.78806624e+00,\n",
       "         -2.60724985e+00],\n",
       "        [-7.25684024e-01, -1.33658163e+00,  1.12207006e+00,\n",
       "         -1.02378038e+00],\n",
       "        [ 9.44085503e-01,  4.32365893e-01, -1.22642040e-01,\n",
       "          4.96333681e-01],\n",
       "        [-1.66352733e+00, -1.81940995e+00,  1.29847343e+00,\n",
       "         -1.55093426e+00],\n",
       "        [-6.13799563e-01, -9.49587668e-01,  7.63904170e-01,\n",
       "         -7.50225826e-01],\n",
       "        [ 4.70674063e-02, -3.32077583e-01,  3.55815960e-01,\n",
       "         -2.01423688e-01],\n",
       "        [ 1.09776435e+00,  1.67966874e+00, -1.34714127e+00,\n",
       "          1.32983537e+00],\n",
       "        [ 1.05848512e+00,  1.57377036e+00, -1.25206656e+00,\n",
       "          1.25296199e+00],\n",
       "        [ 1.19179147e+00,  1.78641814e+00, -1.42453768e+00,\n",
       "          1.41999996e+00],\n",
       "        [ 5.62775900e-01, -1.54813721e+00,  1.77513588e+00,\n",
       "         -8.59090237e-01],\n",
       "        [ 1.22883826e+00,  1.88708859e+00, -1.51501818e+00,\n",
       "          1.49301000e+00],\n",
       "        [ 9.40780297e-01,  1.16053963e+00, -8.69020330e-01,\n",
       "          9.61272391e-01],\n",
       "        [ 1.28306204e+00, -1.10213435e+00,  1.56271084e+00,\n",
       "         -4.06142114e-01],\n",
       "        [-2.19594731e+00, -4.16095358e+00,  3.51456465e+00,\n",
       "         -3.17244701e+00],\n",
       "        [-2.48745520e+00, -3.55347458e+00,  2.79406614e+00,\n",
       "         -2.85180158e+00],\n",
       "        [ 1.24086722e+00, -4.96563780e-01,  9.28635987e-01,\n",
       "         -2.86697165e-02],\n",
       "        [ 9.18372509e-01,  8.28379731e-01, -5.36659207e-01,\n",
       "          7.43620162e-01],\n",
       "        [-9.35850062e-01, -7.30783681e-01,  4.30851702e-01,\n",
       "         -6.85271268e-01],\n",
       "        [ 1.34423453e+00,  7.17784153e-01, -2.79181312e-01,\n",
       "          7.72041415e-01],\n",
       "        [-7.98986602e-01,  3.33814292e-01, -6.12353221e-01,\n",
       "          2.74652035e-02],\n",
       "        [ 5.58918700e-01, -1.75689017e+00,  1.98747982e+00,\n",
       "         -9.93497626e-01],\n",
       "        [ 3.38627010e-01,  1.19020999e+00, -1.10340404e+00,\n",
       "          8.40049027e-01],\n",
       "        [ 1.08209791e+00,  1.35646577e+00, -1.02166316e+00,\n",
       "          1.11948119e+00],\n",
       "        [ 5.41899919e-01, -1.70081876e+00,  1.92432666e+00,\n",
       "         -9.61599271e-01],\n",
       "        [-8.07984707e-01, -6.39802596e-01,  3.81058393e-01,\n",
       "         -5.97312854e-01],\n",
       "        [ 1.35840522e+00, -2.06444038e+00,  2.57312212e+00,\n",
       "         -1.00404907e+00],\n",
       "        [-1.00875866e+00,  3.22131536e-01, -6.71469806e-01,\n",
       "         -2.88477696e-02],\n",
       "        [ 8.77663052e-01, -3.95789682e-01,  7.02439286e-01,\n",
       "         -4.87837449e-02],\n",
       "        [ 6.19933713e-01,  2.21898789e-01, -1.70636282e-02,\n",
       "          2.86255870e-01],\n",
       "        [-1.04191225e+00,  5.88187790e-01, -9.55001240e-01,\n",
       "          1.33591098e-01],\n",
       "        [-1.49208851e+00,  8.04412176e-02, -5.87867161e-01,\n",
       "         -2.95955989e-01],\n",
       "        [-7.58585766e-01,  3.23790104e-01, -5.88405522e-01,\n",
       "          3.04606875e-02],\n",
       "        [ 1.19403862e+00,  1.84539723e+00, -1.48413919e+00,\n",
       "          1.45824362e+00],\n",
       "        [-2.02902552e+00, -1.03111514e-01, -5.81928940e-01,\n",
       "         -5.38363281e-01],\n",
       "        [ 8.40365946e-01,  8.92474080e-01, -6.28686982e-01,\n",
       "          7.66449868e-01]]),\n",
       " array([0, 1, 1, 0, 0, 0, 1, 0, 0, 0, 0, 0, 1, 0, 0, 0, 1, 1, 0, 0, 0, 0,\n",
       "        0, 0, 1, 1, 1, 1, 0, 1, 1, 0, 1, 0, 1, 0, 1, 1, 1, 0, 1, 0, 0, 0,\n",
       "        1, 1, 1, 1, 1, 0, 1, 1, 0, 0, 1, 0, 0, 0, 0, 1, 1, 0, 0, 1, 1, 1,\n",
       "        1, 1, 1, 1, 1, 0, 0, 0, 1, 0, 1, 1, 1, 1, 1, 0, 1, 1, 0, 1, 0, 0,\n",
       "        1, 1, 1, 0, 1, 1, 0, 0, 0, 0, 0, 0]))"
      ]
     },
     "execution_count": 4,
     "metadata": {},
     "output_type": "execute_result"
    }
   ],
   "source": [
    "data"
   ]
  },
  {
   "cell_type": "code",
   "execution_count": 5,
   "id": "9d78f909-a6cf-4bda-ad0f-23b91380f71a",
   "metadata": {},
   "outputs": [
    {
     "data": {
      "text/plain": [
       "tuple"
      ]
     },
     "execution_count": 5,
     "metadata": {},
     "output_type": "execute_result"
    }
   ],
   "source": [
    "type(data)"
   ]
  },
  {
   "cell_type": "code",
   "execution_count": 6,
   "id": "9360ce9f-af23-4d43-a3fd-18621626acff",
   "metadata": {},
   "outputs": [],
   "source": [
    "x = data[0]"
   ]
  },
  {
   "cell_type": "code",
   "execution_count": 7,
   "id": "00598daf-3268-47cf-a501-d9250780c874",
   "metadata": {},
   "outputs": [],
   "source": [
    "y = data[1]"
   ]
  },
  {
   "cell_type": "code",
   "execution_count": 8,
   "id": "d4d87881-6fbd-431e-960a-a881b0f22a55",
   "metadata": {},
   "outputs": [],
   "source": [
    "df = pd.DataFrame(x,columns=[f\"inp{i+1}\" for i in range(4)])# list compriantion"
   ]
  },
  {
   "cell_type": "code",
   "execution_count": 9,
   "id": "ecbd0922-5a28-4e0f-b667-52bcf3114e45",
   "metadata": {},
   "outputs": [],
   "source": [
    "df[\"target\"] = y"
   ]
  },
  {
   "cell_type": "code",
   "execution_count": 10,
   "id": "b5833681-5793-4504-b1af-86873039219d",
   "metadata": {},
   "outputs": [
    {
     "data": {
      "text/html": [
       "<div>\n",
       "<style scoped>\n",
       "    .dataframe tbody tr th:only-of-type {\n",
       "        vertical-align: middle;\n",
       "    }\n",
       "\n",
       "    .dataframe tbody tr th {\n",
       "        vertical-align: top;\n",
       "    }\n",
       "\n",
       "    .dataframe thead th {\n",
       "        text-align: right;\n",
       "    }\n",
       "</style>\n",
       "<table border=\"1\" class=\"dataframe\">\n",
       "  <thead>\n",
       "    <tr style=\"text-align: right;\">\n",
       "      <th></th>\n",
       "      <th>inp1</th>\n",
       "      <th>inp2</th>\n",
       "      <th>inp3</th>\n",
       "      <th>inp4</th>\n",
       "      <th>target</th>\n",
       "    </tr>\n",
       "  </thead>\n",
       "  <tbody>\n",
       "    <tr>\n",
       "      <th>0</th>\n",
       "      <td>0.993109</td>\n",
       "      <td>1.232372</td>\n",
       "      <td>-0.924808</td>\n",
       "      <td>1.019397</td>\n",
       "      <td>0</td>\n",
       "    </tr>\n",
       "    <tr>\n",
       "      <th>1</th>\n",
       "      <td>-2.296140</td>\n",
       "      <td>-3.267740</td>\n",
       "      <td>2.566447</td>\n",
       "      <td>-2.624514</td>\n",
       "      <td>1</td>\n",
       "    </tr>\n",
       "    <tr>\n",
       "      <th>2</th>\n",
       "      <td>-0.778326</td>\n",
       "      <td>-0.616776</td>\n",
       "      <td>0.367540</td>\n",
       "      <td>-0.575680</td>\n",
       "      <td>1</td>\n",
       "    </tr>\n",
       "    <tr>\n",
       "      <th>3</th>\n",
       "      <td>0.785696</td>\n",
       "      <td>0.508259</td>\n",
       "      <td>-0.253980</td>\n",
       "      <td>0.507994</td>\n",
       "      <td>0</td>\n",
       "    </tr>\n",
       "    <tr>\n",
       "      <th>4</th>\n",
       "      <td>1.058794</td>\n",
       "      <td>1.479792</td>\n",
       "      <td>-1.155778</td>\n",
       "      <td>1.192929</td>\n",
       "      <td>0</td>\n",
       "    </tr>\n",
       "  </tbody>\n",
       "</table>\n",
       "</div>"
      ],
      "text/plain": [
       "       inp1      inp2      inp3      inp4  target\n",
       "0  0.993109  1.232372 -0.924808  1.019397       0\n",
       "1 -2.296140 -3.267740  2.566447 -2.624514       1\n",
       "2 -0.778326 -0.616776  0.367540 -0.575680       1\n",
       "3  0.785696  0.508259 -0.253980  0.507994       0\n",
       "4  1.058794  1.479792 -1.155778  1.192929       0"
      ]
     },
     "execution_count": 10,
     "metadata": {},
     "output_type": "execute_result"
    }
   ],
   "source": [
    "df.head()"
   ]
  },
  {
   "cell_type": "code",
   "execution_count": 12,
   "id": "31351f85-01d3-4c49-815b-35e660e34435",
   "metadata": {},
   "outputs": [
    {
     "data": {
      "text/plain": [
       "<matplotlib.collections.PathCollection at 0x28f1a401310>"
      ]
     },
     "execution_count": 12,
     "metadata": {},
     "output_type": "execute_result"
    },
    {
     "data": {
      "image/png": "[encoded data removed]",
      "text/plain": [
       "<Figure size 640x480 with 1 Axes>"
      ]
     },
     "metadata": {},
     "output_type": "display_data"
    }
   ],
   "source": [
    "plt.scatter(df[\"inp1\"][df[\"target\"]==1], df[\"inp1\"][df[\"target\"]==0])\n",
    "plt.scatter(df[\"inp4\"][df[\"target\"]==1], df[\"inp4\"][df[\"target\"]==0])"
   ]
  },
  {
   "cell_type": "code",
   "execution_count": 13,
   "id": "f4164d67-e07a-4b5b-a8d3-60ac2fa48c2b",
   "metadata": {},
   "outputs": [],
   "source": [
    "df.drop([\"inp2\", \"inp3\"], axis=1, inplace=True)"
   ]
  },
  {
   "cell_type": "code",
   "execution_count": 14,
   "id": "9a427c76-c3f8-4649-bcd7-3b2994fa5561",
   "metadata": {},
   "outputs": [
    {
     "data": {
      "text/html": [
       "<div>\n",
       "<style scoped>\n",
       "    .dataframe tbody tr th:only-of-type {\n",
       "        vertical-align: middle;\n",
       "    }\n",
       "\n",
       "    .dataframe tbody tr th {\n",
       "        vertical-align: top;\n",
       "    }\n",
       "\n",
       "    .dataframe thead th {\n",
       "        text-align: right;\n",
       "    }\n",
       "</style>\n",
       "<table border=\"1\" class=\"dataframe\">\n",
       "  <thead>\n",
       "    <tr style=\"text-align: right;\">\n",
       "      <th></th>\n",
       "      <th>inp1</th>\n",
       "      <th>inp4</th>\n",
       "      <th>target</th>\n",
       "    </tr>\n",
       "  </thead>\n",
       "  <tbody>\n",
       "    <tr>\n",
       "      <th>0</th>\n",
       "      <td>0.993109</td>\n",
       "      <td>1.019397</td>\n",
       "      <td>0</td>\n",
       "    </tr>\n",
       "    <tr>\n",
       "      <th>1</th>\n",
       "      <td>-2.296140</td>\n",
       "      <td>-2.624514</td>\n",
       "      <td>1</td>\n",
       "    </tr>\n",
       "    <tr>\n",
       "      <th>2</th>\n",
       "      <td>-0.778326</td>\n",
       "      <td>-0.575680</td>\n",
       "      <td>1</td>\n",
       "    </tr>\n",
       "    <tr>\n",
       "      <th>3</th>\n",
       "      <td>0.785696</td>\n",
       "      <td>0.507994</td>\n",
       "      <td>0</td>\n",
       "    </tr>\n",
       "    <tr>\n",
       "      <th>4</th>\n",
       "      <td>1.058794</td>\n",
       "      <td>1.192929</td>\n",
       "      <td>0</td>\n",
       "    </tr>\n",
       "  </tbody>\n",
       "</table>\n",
       "</div>"
      ],
      "text/plain": [
       "       inp1      inp4  target\n",
       "0  0.993109  1.019397       0\n",
       "1 -2.296140 -2.624514       1\n",
       "2 -0.778326 -0.575680       1\n",
       "3  0.785696  0.507994       0\n",
       "4  1.058794  1.192929       0"
      ]
     },
     "execution_count": 14,
     "metadata": {},
     "output_type": "execute_result"
    }
   ],
   "source": [
    "df.head()"
   ]
  },
  {
   "cell_type": "code",
   "execution_count": 15,
   "id": "e39a3564-71de-4625-b49b-fcb1da23e8b4",
   "metadata": {},
   "outputs": [],
   "source": [
    "model = LogisticRegression()"
   ]
  },
  {
   "cell_type": "code",
   "execution_count": 16,
   "id": "f3d95963-00d4-4d21-ad70-81c58093600d",
   "metadata": {},
   "outputs": [],
   "source": [
    "X = df.drop(\"target\", axis=1)\n",
    "y = df[\"target\"]"
   ]
  },
  {
   "cell_type": "code",
   "execution_count": 17,
   "id": "8ad87009-faae-4934-8c47-09046c2c49dc",
   "metadata": {},
   "outputs": [
    {
     "data": {
      "text/html": [
       "<style>#sk-container-id-1 {color: black;}#sk-container-id-1 pre{padding: 0;}#sk-container-id-1 div.sk-toggleable {background-color: white;}#sk-container-id-1 label.sk-toggleable__label {cursor: pointer;display: block;width: 100%;margin-bottom: 0;padding: 0.3em;box-sizing: border-box;text-align: center;}#sk-container-id-1 label.sk-toggleable__label-arrow:before {content: \"▸\";float: left;margin-right: 0.25em;color: #696969;}#sk-container-id-1 label.sk-toggleable__label-arrow:hover:before {color: black;}#sk-container-id-1 div.sk-estimator:hover label.sk-toggleable__label-arrow:before {color: black;}#sk-container-id-1 div.sk-toggleable__content {max-height: 0;max-width: 0;overflow: hidden;text-align: left;background-color: #f0f8ff;}#sk-container-id-1 div.sk-toggleable__content pre {margin: 0.2em;color: black;border-radius: 0.25em;background-color: #f0f8ff;}#sk-container-id-1 input.sk-toggleable__control:checked~div.sk-toggleable__content {max-height: 200px;max-width: 100%;overflow: auto;}#sk-container-id-1 input.sk-toggleable__control:checked~label.sk-toggleable__label-arrow:before {content: \"▾\";}#sk-container-id-1 div.sk-estimator input.sk-toggleable__control:checked~label.sk-toggleable__label {background-color: #d4ebff;}#sk-container-id-1 div.sk-label input.sk-toggleable__control:checked~label.sk-toggleable__label {background-color: #d4ebff;}#sk-container-id-1 input.sk-hidden--visually {border: 0;clip: rect(1px 1px 1px 1px);clip: rect(1px, 1px, 1px, 1px);height: 1px;margin: -1px;overflow: hidden;padding: 0;position: absolute;width: 1px;}#sk-container-id-1 div.sk-estimator {font-family: monospace;background-color: #f0f8ff;border: 1px dotted black;border-radius: 0.25em;box-sizing: border-box;margin-bottom: 0.5em;}#sk-container-id-1 div.sk-estimator:hover {background-color: #d4ebff;}#sk-container-id-1 div.sk-parallel-item::after {content: \"\";width: 100%;border-bottom: 1px solid gray;flex-grow: 1;}#sk-container-id-1 div.sk-label:hover label.sk-toggleable__label {background-color: #d4ebff;}#sk-container-id-1 div.sk-serial::before {content: \"\";position: absolute;border-left: 1px solid gray;box-sizing: border-box;top: 0;bottom: 0;left: 50%;z-index: 0;}#sk-container-id-1 div.sk-serial {display: flex;flex-direction: column;align-items: center;background-color: white;padding-right: 0.2em;padding-left: 0.2em;position: relative;}#sk-container-id-1 div.sk-item {position: relative;z-index: 1;}#sk-container-id-1 div.sk-parallel {display: flex;align-items: stretch;justify-content: center;background-color: white;position: relative;}#sk-container-id-1 div.sk-item::before, #sk-container-id-1 div.sk-parallel-item::before {content: \"\";position: absolute;border-left: 1px solid gray;box-sizing: border-box;top: 0;bottom: 0;left: 50%;z-index: -1;}#sk-container-id-1 div.sk-parallel-item {display: flex;flex-direction: column;z-index: 1;position: relative;background-color: white;}#sk-container-id-1 div.sk-parallel-item:first-child::after {align-self: flex-end;width: 50%;}#sk-container-id-1 div.sk-parallel-item:last-child::after {align-self: flex-start;width: 50%;}#sk-container-id-1 div.sk-parallel-item:only-child::after {width: 0;}#sk-container-id-1 div.sk-dashed-wrapped {border: 1px dashed gray;margin: 0 0.4em 0.5em 0.4em;box-sizing: border-box;padding-bottom: 0.4em;background-color: white;}#sk-container-id-1 div.sk-label label {font-family: monospace;font-weight: bold;display: inline-block;line-height: 1.2em;}#sk-container-id-1 div.sk-label-container {text-align: center;}#sk-container-id-1 div.sk-container {/* jupyter's `normalize.less` sets `[hidden] { display: none; }` but bootstrap.min.css set `[hidden] { display: none !important; }` so we also need the `!important` here to be able to override the default hidden behavior on the sphinx rendered scikit-learn.org. See: https://github.com/scikit-learn/scikit-learn/issues/21755 */display: inline-block !important;position: relative;}#sk-container-id-1 div.sk-text-repr-fallback {display: none;}</style><div id=\"sk-container-id-1\" class=\"sk-top-container\"><div class=\"sk-text-repr-fallback\"><pre>LogisticRegression()</pre><b>In a Jupyter environment, please rerun this cell to show the HTML representation or trust the notebook. <br />On GitHub, the HTML representation is unable to render, please try loading this page with nbviewer.org.</b></div><div class=\"sk-container\" hidden><div class=\"sk-item\"><div class=\"sk-estimator sk-toggleable\"><input class=\"sk-toggleable__control sk-hidden--visually\" id=\"sk-estimator-id-1\" type=\"checkbox\" checked><label for=\"sk-estimator-id-1\" class=\"sk-toggleable__label sk-toggleable__label-arrow\">LogisticRegression</label><div class=\"sk-toggleable__content\"><pre>LogisticRegression()</pre></div></div></div></div></div>"
      ],
      "text/plain": [
       "LogisticRegression()"
      ]
     },
     "execution_count": 17,
     "metadata": {},
     "output_type": "execute_result"
    }
   ],
   "source": [
    "model.fit(X, y)"
   ]
  },
  {
   "cell_type": "code",
   "execution_count": null,
   "id": "baa68889-40e5-454b-87e2-8f24089648eb",
   "metadata": {},
   "outputs": [],
   "source": [
    "LogisticRegression()\n",
    "In a Jupyter environment, please rerun this cell to show the HTML representation or trust the notebook.\n",
    "On GitHub, the HTML representation is unable to render, please try loading this page with nbviewer.org"
   ]
  },
  {
   "cell_type": "code",
   "execution_count": 18,
   "id": "e99ec74d-86e8-4585-8b1c-2f040590dab8",
   "metadata": {},
   "outputs": [
    {
     "data": {
      "text/plain": [
       "0.86"
      ]
     },
     "execution_count": 18,
     "metadata": {},
     "output_type": "execute_result"
    }
   ],
   "source": [
    "model.score(X, y) # Training Score"
   ]
  },
  {
   "cell_type": "code",
   "execution_count": 19,
   "id": "028a9bc6-dd6b-4fd5-8445-2a3bafcfb778",
   "metadata": {},
   "outputs": [],
   "source": [
    "y_pred = model.predict(X)"
   ]
  },
  {
   "cell_type": "code",
   "execution_count": 20,
   "id": "4d2f1c1d-608b-490a-9c33-e07a3b04e2f1",
   "metadata": {},
   "outputs": [
    {
     "data": {
      "text/plain": [
       "0.86"
      ]
     },
     "execution_count": 20,
     "metadata": {},
     "output_type": "execute_result"
    }
   ],
   "source": [
    "accuracy_score(y, y_pred) # Testing Accuracy"
   ]
  },
  {
   "cell_type": "code",
   "execution_count": 21,
   "id": "8e5848a7-664c-425c-a24d-4a98a312c934",
   "metadata": {},
   "outputs": [],
   "source": [
    "from sklearn.metrics import confusion_matrix"
   ]
  },
  {
   "cell_type": "code",
   "execution_count": 22,
   "id": "8625ff66-0471-4a5e-8232-e57667f5ad92",
   "metadata": {},
   "outputs": [
    {
     "data": {
      "text/plain": [
       "array([0, 1, 1, 0, 0, 0, 1, 0, 0, 1, 0, 0, 1, 1, 0, 0, 1, 0, 0, 0, 0, 0,\n",
       "       0, 0, 1, 1, 1, 1, 0, 1, 0, 0, 1, 0, 0, 0, 0, 1, 1, 1, 1, 0, 0, 1,\n",
       "       0, 0, 0, 1, 1, 0, 1, 1, 0, 0, 1, 0, 0, 0, 0, 1, 1, 0, 1, 1, 1, 1,\n",
       "       1, 1, 1, 1, 1, 0, 0, 0, 1, 0, 0, 1, 1, 1, 1, 0, 1, 0, 0, 1, 0, 0,\n",
       "       1, 1, 1, 0, 1, 1, 0, 0, 0, 0, 0, 0])"
      ]
     },
     "execution_count": 22,
     "metadata": {},
     "output_type": "execute_result"
    }
   ],
   "source": [
    "y_pred"
   ]
  },
  {
   "cell_type": "code",
   "execution_count": 23,
   "id": "52cfce07-26bc-4710-b047-019901a6260e",
   "metadata": {},
   "outputs": [
    {
     "data": {
      "text/plain": [
       "array([[45,  5],\n",
       "       [ 9, 41]], dtype=int64)"
      ]
     },
     "execution_count": 23,
     "metadata": {},
     "output_type": "execute_result"
    }
   ],
   "source": [
    "confusion_matrix(y, y_pred)"
   ]
  },
  {
   "cell_type": "code",
   "execution_count": null,
   "id": "f542869a-399a-40a7-be4a-d9824913e22e",
   "metadata": {},
   "outputs": [],
   "source": []
  }
 ],
 "metadata": {
  "kernelspec": {
   "display_name": "Python 3 (ipykernel)",
   "language": "python",
   "name": "python3"
  },
  "language_info": {
   "codemirror_mode": {
    "name": "ipython",
    "version": 3
   },
   "file_extension": ".py",
   "mimetype": "text/x-python",
   "name": "python",
   "nbconvert_exporter": "python",
   "pygments_lexer": "ipython3",
   "version": "3.12.0"
  }
 },
 "nbformat": 4,
 "nbformat_minor": 5
}
